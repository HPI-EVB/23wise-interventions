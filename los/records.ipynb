{
 "cells": [
  {
   "cell_type": "code",
   "execution_count": null,
   "id": "3fea7906-fed6-4ca8-907f-58d2289f8936",
   "metadata": {},
   "outputs": [],
   "source": [
    "from src.data_structure import VisitData, Record, RecordKey, record_key_from_abbreviation\n",
    "from src.database import read_sql"
   ]
  },
  {
   "cell_type": "code",
   "execution_count": null,
   "id": "5f312138-c47f-4550-b2e3-22ad2b33d872",
   "metadata": {},
   "outputs": [],
   "source": [
    "data = VisitData()"
   ]
  },
  {
   "cell_type": "code",
   "execution_count": null,
   "id": "681feebf-be6d-4d52-8ae7-fc93141b8622",
   "metadata": {},
   "outputs": [],
   "source": [
    "df = read_sql('''\n",
    "WITH observations AS (\n",
    "    SELECT * FROM student_data.vwd_observations\n",
    "    -- LIMIT 100000\n",
    "),\n",
    "cases as (\n",
    "    SELECT f.visit_oid, f.startingvisitoid\n",
    "    FROM student_data.vwd_diagnosen AS d JOIN student_data.vwd_faelle AS f ON d.visit_oid = f.visit_oid\n",
    "    WHERE d.\"isPrimary\" = FALSE\n",
    "    AND d.\"Code\" ilike('j18%')\n",
    ")\n",
    "\n",
    "SELECT\n",
    "    cases.startingvisitoid AS visit_id,\n",
    "    observations.\"Value\" AS value,\n",
    "    observations.\"StartDT_minutes_since_start\" AS minutes_since_start,\n",
    "    observations.\"FindingAbbr\" AS finding\n",
    "FROM cases JOIN observations ON cases.visit_oid = observations.patientvisit_oid\n",
    "ORDER BY minutes_since_start\n",
    "''')"
   ]
  },
  {
   "cell_type": "code",
   "execution_count": null,
   "id": "9588fe45-8e81-4434-a10c-1b27cd2c8412",
   "metadata": {
    "tags": []
   },
   "outputs": [],
   "source": [
    "def process_row(visit_id, value, minutes_since_start, finding):\n",
    "    key = record_key_from_abbreviation(finding)\n",
    "    if not key: return\n",
    "    record = Record(minutes_since_start, value)\n",
    "    data.append(visit_id, key, record)\n",
    "\n",
    "_ = [process_row(*row) for row in zip(*(df[col] for col in df))]"
   ]
  },
  {
   "cell_type": "code",
   "execution_count": null,
   "id": "46a0b9a7-828e-4c4e-b966-0afa4391d74a",
   "metadata": {},
   "outputs": [],
   "source": [
    "print(len(data.visits))"
   ]
  },
  {
   "cell_type": "code",
   "execution_count": null,
   "id": "065e05c3",
   "metadata": {},
   "outputs": [],
   "source": [
    "# investigation results\n",
    "df = read_sql(\"\"\"WITH ir AS (\n",
    "\tSELECT * \n",
    "\tFROM student_data.vwd_investigationresults \n",
    "\t-- LIMIT 1000000\n",
    "\t)\n",
    "SELECT f.visit_oid, s.description, ir.findingabbreviation, ir.resultvalue, ir.resultdatetime_minutes_since_start\n",
    "FROM ir\n",
    "JOIN \n",
    "\tstudent_data.vwd_service AS s\n",
    "ON \n",
    "\tir.service_oid = s.objectid\n",
    "JOIN\n",
    "\tstudent_data.vwd_faelle AS f\n",
    "ON\n",
    "\tir.patientvisit_oid = f.visit_oid\n",
    "JOIN\n",
    "\tstudent_data.vwd_diagnosen AS d\n",
    "ON\n",
    "\tf.visit_oid = d.visit_oid\n",
    "WHERE\n",
    "\td.\"Code\" LIKE 'J18%'\n",
    "AND\n",
    "\td.\"isPrimary\" = TRUE\n",
    "AND\n",
    "\tf.visit_oid = f.startingvisitoid\n",
    "AND\n",
    "\t(\n",
    "\t\tir.findingabbreviation LIKE 'Hämoglobin'\n",
    "\tOR\n",
    "\t\tir.findingabbreviation LIKE 'Thrombozyten'\n",
    "\tOR\n",
    "\t\tir.findingabbreviation LIKE 'HB POC'\n",
    "\tOR\n",
    "\t\tir.findingabbreviation LIKE 'Leukozyten3'\n",
    "\tOR\n",
    "\t\tir.findingabbreviation LIKE 'GFR'\n",
    "\tOR\n",
    "\t\tir.findingabbreviation LIKE 'Natrium'\n",
    "\tOR\n",
    "\t\tir.findingabbreviation LIKE 'Kalium'\n",
    "\tOR\n",
    "\t\tir.findingabbreviation LIKE 'C-reakt.Pro.'\n",
    "\tOR\n",
    "\t\tir.findingabbreviation LIKE 'GLUCP2'\n",
    "\tOR\n",
    "\t\tir.findingabbreviation LIKE 'PTT1-1'\n",
    "\tOR\n",
    "\t\tir.findingabbreviation LIKE 'BE(B) POC'\n",
    "\tOR\n",
    "\t\tir.findingabbreviation LIKE 'HCO3-std P'\n",
    "\tOR\n",
    "\t\tir.findingabbreviation LIKE 'O2-SAT POC'\n",
    "\t)\t\t\n",
    "--LIMIT 10000\n",
    ";\n",
    "\"\"\")\n",
    "df"
   ]
  },
  {
   "cell_type": "code",
   "execution_count": null,
   "id": "41effdbf",
   "metadata": {},
   "outputs": [],
   "source": []
  }
 ],
 "metadata": {
  "kernelspec": {
   "display_name": "Python 3 (ipykernel)",
   "language": "python",
   "name": "python3"
  },
  "language_info": {
   "codemirror_mode": {
    "name": "ipython",
    "version": 3
   },
   "file_extension": ".py",
   "mimetype": "text/x-python",
   "name": "python",
   "nbconvert_exporter": "python",
   "pygments_lexer": "ipython3",
   "version": "3.10.9"
  }
 },
 "nbformat": 4,
 "nbformat_minor": 5
}
