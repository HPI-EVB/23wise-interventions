{
 "cells": [
  {
   "cell_type": "markdown",
   "id": "6bf85533",
   "metadata": {},
   "source": [
    "# Erste Datenabfragen Aufgaben Team Janis & Johann\n",
    "## Import der Packages"
   ]
  },
  {
   "cell_type": "code",
   "execution_count": null,
   "id": "317b8958",
   "metadata": {},
   "outputs": [],
   "source": [
    "import pandas as pd\n",
    "import matplotlib.pyplot as plt\n",
    "from sqlalchemy import create_engine\n",
    "from src.database import read_sql\n",
    "from src.load_icd10_mapping import load_icd_mapping\n",
    "import os\n",
    "import numpy as np"
   ]
  },
  {
   "cell_type": "markdown",
   "id": "cb9a0e0e",
   "metadata": {},
   "source": [
    "## Wie viele Tage nach Aufnahme wird die Hauptdiagnose eingetragen?"
   ]
  },
  {
   "cell_type": "code",
   "execution_count": null,
   "id": "ba05bcf4",
   "metadata": {},
   "outputs": [],
   "source": [
    "df = read_sql(\"\"\"\n",
    "SELECT \"CreationTime_day_of_visit\" AS creationtime_day_of_visit\n",
    "FROM student_data.vwd_diagnosen\n",
    "WHERE \"isPrimary\" = TRUE;\"\"\")\n",
    "\n",
    "df.creationtime_day_of_visit.describe()"
   ]
  },
  {
   "cell_type": "markdown",
   "id": "c2ba5e13",
   "metadata": {},
   "source": [
    "Im Median wird die Hauptdiagnose am zweiten Tag nach Aufnahme eingetragen. Es gibt jedoch auch Patient:innen, bei denen die Diagnose bereits 29 Tage vor Aufnahme eingetragen wird. Wir vermuten, dass es sich hierbei um elektive Patient:innen handelt."
   ]
  },
  {
   "cell_type": "code",
   "execution_count": null,
   "id": "96c56b44",
   "metadata": {},
   "outputs": [],
   "source": [
    "df.plot(kind=\"hist\",\n",
    "       bins=range(int(df['creationtime_day_of_visit'].min()), int(df['creationtime_day_of_visit'].max()) + 1, 1),\n",
    "        rwidth=0.8,\n",
    "        color='#86bf91',\n",
    "        alpha=0.7,\n",
    "       title=\"Hauptdiagnose Eintrag nach x Tagen\")"
   ]
  },
  {
   "cell_type": "markdown",
   "id": "ed27e2ba",
   "metadata": {},
   "source": [
    "### Wie viel Tage nach Aufnahme werden die Nebendiagnosen eingetragen?"
   ]
  },
  {
   "cell_type": "code",
   "execution_count": null,
   "id": "afd8552c",
   "metadata": {},
   "outputs": [],
   "source": [
    "df = read_sql(\"\"\"\n",
    "SELECT d.\"CreationTime_day_of_visit\" AS creationtime_day_of_visit\n",
    "FROM student_data.vwd_diagnosen AS d JOIN student_data.vwd_faelle AS F ON d.visit_oid = f.visit_oid\n",
    "WHERE d.\"isPrimary\" = FALSE\n",
    "AND f.startingvisitoid = f.visit_oid;\"\"\")\n",
    "\n",
    "df.creationtime_day_of_visit.describe()"
   ]
  },
  {
   "cell_type": "markdown",
   "id": "7a043e50",
   "metadata": {},
   "source": [
    "Die Nebendiagnosen werden im Median ebenfalls nach 2 Tagen eingetragen."
   ]
  },
  {
   "cell_type": "code",
   "execution_count": null,
   "id": "cae95465",
   "metadata": {},
   "outputs": [],
   "source": [
    "# Define the bin edges based on the desired width\n",
    "bin_width = 1\n",
    "bin_edges = range(int(df['creationtime_day_of_visit'].min()), int(df['creationtime_day_of_visit'].max()) + bin_width, bin_width)\n",
    "\n",
    "df.plot(kind=\"hist\",\n",
    "       bins=bin_edges,\n",
    "        rwidth=0.8,\n",
    "        color='#86bf91',\n",
    "        alpha=0.7,\n",
    "       title=\"Nebendiagnosen Eintrag in Tagen\")"
   ]
  },
  {
   "cell_type": "markdown",
   "id": "e2339356",
   "metadata": {},
   "source": [
    "## Wie ist die Geschlechterverteilung bei Lungenkrebs?"
   ]
  },
  {
   "cell_type": "code",
   "execution_count": null,
   "id": "9ab8cb47",
   "metadata": {},
   "outputs": [],
   "source": [
    "df = read_sql(\"\"\"\n",
    "SELECT p.sex, COUNT(DISTINCT d.patient_oid) AS patient_count\n",
    "FROM student_data.vwd_diagnosen d\n",
    "JOIN student_data.vwd_faelle p ON d.patient_oid = p.patient_oid\n",
    "WHERE d.\"Code\" LIKE 'C34%%'\n",
    "GROUP BY p.sex;\"\"\")\n",
    "\n",
    "df[\"percentage\"] = round(df.patient_count / sum(df.patient_count) * 100., 2)\n",
    "df"
   ]
  },
  {
   "cell_type": "markdown",
   "id": "b44e22cf",
   "metadata": {},
   "source": [
    "Der Anteil männlicher Patienten an allen Fällen mit Lungenkrebs liegt bei fast 2/3."
   ]
  },
  {
   "cell_type": "markdown",
   "id": "e9daa08b",
   "metadata": {},
   "source": [
    "## Wann werden Fälle aufgenommen?\n",
    "Wir nutzen hier die verstrichene Zeit seit Aufnahme bis zur Eintragung der Diagnose (**CreationTime_minutes_since_start**), um vom Zeitpunkt der Eintragung (**CreationTime_hour_of_day**) zurück zu rechnen. Somit erhalten wir die Aufnahmeuhrzeit."
   ]
  },
  {
   "cell_type": "code",
   "execution_count": null,
   "id": "4dc7d110",
   "metadata": {},
   "outputs": [],
   "source": [
    "df = read_sql(\"\"\"\n",
    "SELECT MOD(\"CreationTime_hour_of_day\" + 24 - MOD(CAST(\"CreationTime_minutes_since_start\" / 60.0 AS BIGINT), 24), 24) AS start_hour\n",
    "FROM student_data.vwd_diagnosen WHERE \"isPrimary\" = True;\"\"\")\n",
    "\n",
    "df.head()"
   ]
  },
  {
   "cell_type": "code",
   "execution_count": null,
   "id": "10fe4dfe",
   "metadata": {},
   "outputs": [],
   "source": [
    "plt.hist(df.start_hour,\n",
    "        bins=24,\n",
    "        align=\"left\",\n",
    "        alpha=0.8)\n",
    "plt.xticks(range(24))\n",
    "plt.title(\"Aufnahmeuhrzeit\")"
   ]
  },
  {
   "cell_type": "code",
   "execution_count": null,
   "id": "ffabad8b",
   "metadata": {},
   "outputs": [],
   "source": [
    "df.start_hour.describe()"
   ]
  },
  {
   "cell_type": "markdown",
   "id": "c33185f1",
   "metadata": {},
   "source": [
    "## Wie viele Schlaganfallpatient:innen sind 40 Jahre alt oder jünger?"
   ]
  },
  {
   "cell_type": "code",
   "execution_count": null,
   "id": "ed955e86",
   "metadata": {},
   "outputs": [],
   "source": [
    "df = read_sql(\"\"\"\n",
    "SELECT CAST(sum(CASE WHEN birth_decade >= 1980 THEN 1 ELSE 0 END) AS FLOAT) / COUNT(*) * 100 AS percentage_infarct_under_40\n",
    "FROM student_data.vwd_diagnosen AS d JOIN student_data.vwd_faelle AS f ON d.visit_oid = f.visit_oid\n",
    "WHERE (\"Code\" ILIKE 'I64%' OR \"Code\" ILIKE 'I63%')\n",
    "AND f.startingvisitoid = f.visit_oid;\"\"\")\n",
    "\n",
    "print(f\"{round(df.iloc[0, 0], 2)}% aller Schlaganfallpatient:innen sind 1980 oder später geboren.\")"
   ]
  },
  {
   "cell_type": "markdown",
   "id": "71b39059",
   "metadata": {},
   "source": [
    "## Wie viel Zeit vergeht im Durchschnitt, bis es die ersten Laborwerte gibt?\n",
    "Verifizieren dass nur eine Hauptdiagnose pro Fall:"
   ]
  },
  {
   "cell_type": "code",
   "execution_count": null,
   "id": "35314c14-63cd-4ae8-a18b-84139f7f5586",
   "metadata": {},
   "outputs": [],
   "source": [
    "read_sql(\"\"\"\n",
    "with primary_counts as (\n",
    "\tSELECT count(*)\n",
    "\tfrom student_data.vwd_diagnosen as d join student_data.vwd_faelle as f\n",
    "\ton D.visit_oid = F.visit_oid where d.\"isPrimary\" = true group by F.startingvisitoid limit 10\n",
    ") select * from primary_counts where \"count\" != 1\"\"\")"
   ]
  },
  {
   "cell_type": "markdown",
   "id": "56829a7a",
   "metadata": {},
   "source": [
    "Es gibt nur eine Hauptdiagnose pro Fall.\n",
    "\n",
    "Wir suche nun pro Fall die ersten Labor/Bildgebungsergebnisse. Ignoriere alle Werte, die vor der Aufnahme entstanden sind. Wir beschränken die Suche auf 100.000 Fälle, da die Abfrage sonst zu lang dauert."
   ]
  },
  {
   "cell_type": "code",
   "execution_count": null,
   "id": "597cd6e0-a477-4cf9-8702-feca597d50a0",
   "metadata": {},
   "outputs": [],
   "source": [
    "df = read_sql(\"\"\"\n",
    "WITH t AS (select min(observationdatetime_minutes_since_start) AS time_to_first_results_in_minutes\n",
    "FROM student_data.vwd_investigationresults AS i \n",
    "JOIN student_data.vwd_faelle AS f\n",
    "ON i.patientvisit_oid = f.visit_oid\n",
    "GROUP BY F.startingvisitoid LIMIT 1000) \n",
    "SELECT * FROM t WHERE time_to_first_results_in_minutes > 0 \"\"\")\n",
    "\n",
    "df.head()"
   ]
  },
  {
   "cell_type": "code",
   "execution_count": null,
   "id": "870dc1d1",
   "metadata": {},
   "outputs": [],
   "source": [
    "df[\"time_to_first_results_in_hours\"] = round(df[\"time_to_first_results_in_minutes\"] / 60., 2)"
   ]
  },
  {
   "cell_type": "code",
   "execution_count": null,
   "id": "e2fe5fdd",
   "metadata": {},
   "outputs": [],
   "source": [
    "def plot_loghist(x, bins):\n",
    "    logbins = np.logspace(np.log10(np.min(x)),\n",
    "                          np.log10(np.max(x)),\n",
    "                          bins+1)\n",
    "    plt.hist(x, bins=logbins)\n",
    "    plt.xscale('log')"
   ]
  },
  {
   "cell_type": "code",
   "execution_count": null,
   "id": "41894f49-050a-43b4-9db3-ca53c4c74021",
   "metadata": {},
   "outputs": [],
   "source": [
    "plot_loghist(df.time_to_first_results_in_hours, 10)\n",
    "plt.title(\"Stunden seit Aufnahme\")"
   ]
  },
  {
   "cell_type": "code",
   "execution_count": null,
   "id": "b182753b",
   "metadata": {},
   "outputs": [],
   "source": [
    "df.time_to_first_results_in_hours.describe()"
   ]
  },
  {
   "cell_type": "markdown",
   "id": "c4917e2b",
   "metadata": {},
   "source": [
    "## Was sind die 10 häufigsten Erkrankungen, mit denen man im KEVB liegt?\n",
    "\n",
    "Wir berücksichtigen hier nur die Hauptdiagnosen."
   ]
  },
  {
   "cell_type": "code",
   "execution_count": null,
   "id": "585d2718-cd49-43d2-8a5d-f48adf200c74",
   "metadata": {},
   "outputs": [],
   "source": [
    "top_diagnoses = read_sql(\"\"\"\n",
    "SELECT\n",
    "  CASE\n",
    "    WHEN POSITION('.' IN d.\"Code\") > 0 THEN\n",
    "      SUBSTRING(d.\"Code\" FROM 1 FOR POSITION('.' IN d.\"Code\") - 1)\n",
    "    ELSE\n",
    "      d.\"Code\"\n",
    "  END AS code_group,\n",
    "  COUNT(d.\"Code\") AS code_count\n",
    "FROM\n",
    "  student_data.vwd_diagnosen AS d\n",
    "JOIN\n",
    "  student_data.vwd_faelle AS f ON d.visit_oid = f.visit_oid\n",
    "WHERE\n",
    "  d.\"isPrimary\" = true\n",
    "  AND F.startingvisitoid = f.visit_oid\n",
    "GROUP BY\n",
    "  code_group\n",
    "ORDER BY\n",
    "  code_count DESC\n",
    "LIMIT 10;\n",
    "\"\"\")\n",
    "icd_df = load_icd_mapping()\n",
    "top_diagnoses = pd.merge(top_diagnoses,\n",
    "               icd_df[[\"key_number_no_dot\", \"three_digit_title\"]].drop_duplicates(),\n",
    "               left_on=\"code_group\",\n",
    "               right_on=\"key_number_no_dot\",\n",
    "               how=\"left\").drop(\"key_number_no_dot\", axis=1)\n",
    "top_diagnoses"
   ]
  }
 ],
 "metadata": {
  "kernelspec": {
   "display_name": "Python 3 (ipykernel)",
   "language": "python",
   "name": "python3"
  },
  "language_info": {
   "codemirror_mode": {
    "name": "ipython",
    "version": 3
   },
   "file_extension": ".py",
   "mimetype": "text/x-python",
   "name": "python",
   "nbconvert_exporter": "python",
   "pygments_lexer": "ipython3",
   "version": "3.10.9"
  }
 },
 "nbformat": 4,
 "nbformat_minor": 5
}
