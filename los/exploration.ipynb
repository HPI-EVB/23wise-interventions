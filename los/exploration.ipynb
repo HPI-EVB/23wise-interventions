{
 "cells": [
  {
   "cell_type": "code",
   "execution_count": null,
   "metadata": {},
   "outputs": [],
   "source": [
    "import pandas as pd\n",
    "from sqlalchemy import create_engine\n",
    "import os\n",
    "\n",
    "db_name = os.getenv(\"DB_NAME_SEMINAR2\")\n",
    "db_user = os.getenv(\"DB_USER\")\n",
    "db_host = os.getenv(\"DB_HOST\")\n",
    "db_pw = os.getenv(\"DB_PW\")\n",
    "db_port = os.getenv(\"DB_PORT\")\n",
    "\n",
    "engine = create_engine(f\"postgresql://{db_user}:{db_pw}@{db_host}:{db_port}/{db_name}\")"
   ]
  },
  {
   "cell_type": "code",
   "execution_count": null,
   "metadata": {},
   "outputs": [],
   "source": [
    "# Notfallvorhersage, \n",
    "df_nf = pd.read_sql(\"SELECT * FROM student_data.mvz_krankschreibungen LIMIT 10000\",engine)\n",
    "\n",
    "# Beispiel: Krankschreibungen für Atemwegskrankheiten\n",
    "df_nf[df_nf[\"diagnose\"].str.contains(\"J\")]"
   ]
  },
  {
   "cell_type": "code",
   "execution_count": null,
   "metadata": {},
   "outputs": [],
   "source": [
    "# Verweildauer\n",
    "df_vwd = pd.read_sql('SELECT * FROM student_data.vwd_diagnosen WHERE \"isPrimary\" = True LIMIT 10000', engine)\n",
    "\n",
    "# Beispiel: häufigste Hauptdiagnosen (trifft keine generelle Aussage, da nur die ersten 10000 Diagnosen heruntergeladen wurden)\n",
    "df_vwd[\"Code\"].value_counts()"
   ]
  },
  {
   "cell_type": "code",
   "execution_count": null,
   "metadata": {},
   "outputs": [],
   "source": [
    "# diagnosis before visit\n",
    "pd.read_sql('SELECT * FROM student_data.vwd_diagnosen WHERE \"StartDate_day_of_visit\" < 0 AND \"isPrimary\" = TRUE LIMIT 10', engine)"
   ]
  },
  {
   "cell_type": "code",
   "execution_count": null,
   "metadata": {},
   "outputs": [],
   "source": [
    "# HIV patient main diagnoses\n",
    "pd.read_sql('SELECT * FROM student_data.vwd_patienten as P join student_data.vwd_diagnosen as D on p.visit_oid = d.visit_oid WHERE p.patient_oid ilike(\\'81b548fa9f125816df6bdc021123bbeef6\\') and d.\"isPrimary\" = TRUE', engine)"
   ]
  },
  {
   "cell_type": "code",
   "execution_count": null,
   "metadata": {},
   "outputs": [],
   "source": [
    "# ENK station\n",
    "pd.read_sql('SELECT * FROM student_data.vwd_patienten as P join student_data.vwd_diagnosen as D on p.visit_oid = d.visit_oid where patientlocationname ilike(\\'ENK\\') and \"isPrimary\" = TRUE LIMIT 10', engine)"
   ]
  },
  {
   "cell_type": "code",
   "execution_count": null,
   "metadata": {},
   "outputs": [],
   "source": [
    "# birth decades\n",
    "df_vwd = pd.read_sql('SELECT * FROM student_data.vwd_patienten LIMIT 10000', engine)\n",
    "df_vwd[\"birth_decade\"].value_counts()"
   ]
  },
  {
   "cell_type": "code",
   "execution_count": null,
   "metadata": {},
   "outputs": [],
   "source": [
    "# hiv patient observations\n",
    "observations = pd.read_sql('SELECT * FROM student_data.vwd_patienten as P join student_data.vwd_observations as O on p.visit_oid = o.patientvisit_oid WHERE p.patient_oid ilike(\\'81b548fa9f125816df6bdc021123bbeef6\\') LIMIT 10000', engine)"
   ]
  },
  {
   "cell_type": "code",
   "execution_count": null,
   "metadata": {},
   "outputs": [],
   "source": [
    "observations[\"FindingName\"].value_counts()"
   ]
  },
  {
   "cell_type": "code",
   "execution_count": null,
   "metadata": {},
   "outputs": [],
   "source": [
    "observations[observations.FindingName == \"Größe\"].Value.hist()"
   ]
  },
  {
   "cell_type": "code",
   "execution_count": null,
   "metadata": {},
   "outputs": [],
   "source": []
  }
 ],
 "metadata": {
  "kernelspec": {
   "display_name": "Python 3 (ipykernel)",
   "language": "python",
   "name": "python3"
  },
  "language_info": {
   "codemirror_mode": {
    "name": "ipython",
    "version": 3
   },
   "file_extension": ".py",
   "mimetype": "text/x-python",
   "name": "python",
   "nbconvert_exporter": "python",
   "pygments_lexer": "ipython3",
   "version": "3.10.9"
  }
 },
 "nbformat": 4,
 "nbformat_minor": 2
}
