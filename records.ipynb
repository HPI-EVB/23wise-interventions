{
 "cells": [
  {
   "cell_type": "code",
   "execution_count": null,
   "id": "3fea7906-fed6-4ca8-907f-58d2289f8936",
   "metadata": {},
   "outputs": [],
   "source": [
    "from src.data_structure import VisitData, Record, RecordKey, record_key_from_abbreviation\n",
    "from src.database import read_sql"
   ]
  },
  {
   "cell_type": "code",
   "execution_count": null,
   "id": "5f312138-c47f-4550-b2e3-22ad2b33d872",
   "metadata": {},
   "outputs": [],
   "source": [
    "data = VisitData()"
   ]
  },
  {
   "cell_type": "code",
   "execution_count": null,
   "id": "681feebf-be6d-4d52-8ae7-fc93141b8622",
   "metadata": {},
   "outputs": [],
   "source": [
    "df = read_sql('''\n",
    "WITH observations AS (\n",
    "    SELECT * FROM student_data.vwd_observations\n",
    "    -- LIMIT 100000\n",
    "),\n",
    "cases as (\n",
    "    SELECT f.visit_oid, f.startingvisitoid\n",
    "    FROM student_data.vwd_diagnosen AS d JOIN student_data.vwd_faelle AS f ON d.visit_oid = f.visit_oid\n",
    "    WHERE d.\"isPrimary\" = FALSE\n",
    "    AND d.\"Code\" ilike('j18%')\n",
    ")\n",
    "\n",
    "SELECT\n",
    "    cases.startingvisitoid AS visit_id,\n",
    "    observations.\"Value\" AS value,\n",
    "    observations.\"StartDT_minutes_since_start\" AS minutes_since_start,\n",
    "    observations.\"FindingAbbr\" AS finding\n",
    "FROM cases JOIN observations ON cases.visit_oid = observations.patientvisit_oid\n",
    "ORDER BY minutes_since_start\n",
    "''')"
   ]
  },
  {
   "cell_type": "code",
   "execution_count": null,
   "id": "9588fe45-8e81-4434-a10c-1b27cd2c8412",
   "metadata": {
    "tags": []
   },
   "outputs": [],
   "source": [
    "def process_row(visit_id, value, minutes_since_start, finding):\n",
    "    key = record_key_from_abbreviation(finding)\n",
    "    if not key: return\n",
    "    record = Record(minutes_since_start, value)\n",
    "    data.append(visit_id, key, record)\n",
    "\n",
    "_ = [process_row(*row) for row in zip(*(df[col] for col in df))]"
   ]
  },
  {
   "cell_type": "code",
   "execution_count": null,
   "id": "46a0b9a7-828e-4c4e-b966-0afa4391d74a",
   "metadata": {},
   "outputs": [],
   "source": [
    "print(len(data.visits))"
   ]
  }
 ],
 "metadata": {
  "kernelspec": {
   "display_name": "Python 3 (ipykernel)",
   "language": "python",
   "name": "python3"
  },
  "language_info": {
   "codemirror_mode": {
    "name": "ipython",
    "version": 3
   },
   "file_extension": ".py",
   "mimetype": "text/x-python",
   "name": "python",
   "nbconvert_exporter": "python",
   "pygments_lexer": "ipython3",
   "version": "3.10.9"
  }
 },
 "nbformat": 4,
 "nbformat_minor": 5
}
