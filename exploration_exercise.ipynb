{
 "cells": [
  {
   "cell_type": "code",
   "execution_count": null,
   "id": "4eba9d90",
   "metadata": {},
   "outputs": [],
   "source": [
    "import pandas as pd\n",
    "from sqlalchemy import create_engine\n",
    "import os\n",
    "\n",
    "db_name = os.getenv(\"DB_NAME_SEMINAR2\")\n",
    "db_user = os.getenv(\"DB_USER\")\n",
    "db_host = os.getenv(\"DB_HOST\")\n",
    "db_pw = os.getenv(\"DB_PW\")\n",
    "db_port = os.getenv(\"DB_PORT\")\n",
    "\n",
    "engine = create_engine(f\"postgresql://{db_user}:{db_pw}@{db_host}:{db_port}/{db_name}\")"
   ]
  },
  {
   "cell_type": "code",
   "execution_count": null,
   "id": "ba05bcf4",
   "metadata": {},
   "outputs": [],
   "source": [
    "# Wie viel Tage nach Aufnahme wird die Hauptdiagnose eingetragen?\n",
    "df = pd.read_sql(\"\"\"SELECT \"CreationTime_day_of_visit\" AS creationtime_day_of_visit\n",
    "FROM student_data.vwd_diagnosen\n",
    "WHERE \"isPrimary\" = TRUE;\"\"\", engine)\n",
    "\n",
    "df.creationtime_day_of_visit.describe()"
   ]
  },
  {
   "cell_type": "code",
   "execution_count": null,
   "id": "96c56b44",
   "metadata": {},
   "outputs": [],
   "source": [
    "# Define the bin edges based on the desired width\n",
    "bin_width = 1\n",
    "bin_edges = range(int(df['creationtime_day_of_visit'].min()), int(df['creationtime_day_of_visit'].max()) + bin_width, bin_width)\n",
    "\n",
    "df.plot(kind=\"hist\",\n",
    "       bins=bin_edges,\n",
    "        rwidth=0.8,\n",
    "        color='#86bf91',\n",
    "        alpha=0.7)"
   ]
  },
  {
   "cell_type": "code",
   "execution_count": null,
   "id": "7b687743",
   "metadata": {},
   "outputs": [],
   "source": [
    "# Was sind das für Fälle, wo die Diagnose vor der Aufnahme eingetragen wird?\n",
    "df = pd.read_sql(\"\"\"SELECT *\n",
    "FROM student_data.vwd_diagnosen\n",
    "WHERE \"isPrimary\" = TRUE AND \"CreationTime_day_of_visit\" < 0;\"\"\", engine)\n",
    "\n",
    "df"
   ]
  },
  {
   "cell_type": "code",
   "execution_count": null,
   "id": "54685409",
   "metadata": {},
   "outputs": [],
   "source": [
    "# Wie groß ist der Anteil derjenigen Fälle mit einer negativen Hauptdiagnosen-creation-time, die über die Notaufnahme kommen? --> Hypothese: die sind großteilig elektiv\n"
   ]
  },
  {
   "cell_type": "code",
   "execution_count": null,
   "id": "9ab8cb47",
   "metadata": {},
   "outputs": [],
   "source": [
    "# Wie ist die Geschlechterverteilung bei Lungenkrebs?\n",
    "df = pd.read_sql(\"\"\"SELECT p.sex, COUNT(DISTINCT d.patient_oid) AS patient_count\n",
    "FROM student_data.vwd_diagnosen d\n",
    "JOIN student_data.vwd_fälle p ON d.patient_oid = p.patient_oid\n",
    "WHERE d.code LIKE 'C34%%'\n",
    "GROUP BY p.sex;\"\"\", engine)\n",
    "\n",
    "df"
   ]
  },
  {
   "cell_type": "code",
   "execution_count": null,
   "id": "4dc7d110",
   "metadata": {},
   "outputs": [],
   "source": [
    "# Wann werden Fälle aufgenommen?\n",
    "df = pd.read_sql(\"\"\"\n",
    "SELECT MOD(\"CreationTime_hour_of_day\" + 24 - MOD(CAST(\"CreationTime_minutes_since_start\" / 60.0 AS BIGINT), 24), 24) AS start_hour\n",
    "FROM student_data.vwd_diagnosen WHERE \"isPrimary\" = True;\"\"\", engine)\n",
    "\n",
    "df.head()"
   ]
  },
  {
   "cell_type": "code",
   "execution_count": null,
   "id": "10fe4dfe",
   "metadata": {},
   "outputs": [],
   "source": [
    "df.plot(kind=\"hist\",\n",
    "        # binedges = range(24),\n",
    "        rwidth=0.8,\n",
    "        alpha=0.7)"
   ]
  },
  {
   "cell_type": "code",
   "execution_count": null,
   "id": "ffabad8b",
   "metadata": {},
   "outputs": [],
   "source": [
    "df.start_hour.describe()"
   ]
  },
  {
   "cell_type": "code",
   "execution_count": null,
   "id": "03f63262",
   "metadata": {},
   "outputs": [],
   "source": [
    "from sqlalchemy import text"
   ]
  },
  {
   "cell_type": "code",
   "execution_count": null,
   "id": "ed955e86",
   "metadata": {},
   "outputs": [],
   "source": [
    "df = pd.read_sql(text(\"\"\"\n",
    "SELECT CAST(sum(CASE WHEN birth_decade >= 1980 THEN 1 ELSE 0 END) AS FLOAT) / COUNT(*) * 100 AS percentage_infarct_under_40\n",
    "FROM student_data.vwd_diagnosen AS d JOIN student_data.vwd_faelle AS f ON d.visit_oid = f.visit_oid\n",
    "WHERE (\"Code\" ILIKE 'I64%' OR \"Code\" ILIKE 'I63%')\n",
    "AND f.startingvisitoid = f.visit_oid;\"\"\"), engine)\n",
    "\n",
    "print(f\"{round(df.iloc[0, 0], 2)}% of all stroke patients are born 1980 or later.\")"
   ]
  },
  {
   "cell_type": "code",
   "execution_count": null,
   "id": "cd64842a",
   "metadata": {},
   "outputs": [],
   "source": []
  },
  {
   "cell_type": "code",
   "execution_count": null,
   "id": "168a315a",
   "metadata": {},
   "outputs": [],
   "source": [
    "alchemy_object = text(\"\"\"\n",
    "SELECT CAST(sum(CASE WHEN birth_decade > 1980 THEN 1 ELSE 0 END) AS FLOAT) / COUNT(*) * 100 AS percentage_infarct_under_40\n",
    "FROM student_data.vwd_diagnosen AS d JOIN student_data.vwd_faelle AS f ON d.visit_oid = f.visit_oid\n",
    "WHERE (\"Code\" ILIKE 'I64%' OR \"Code\" ILIKE 'I63%')\n",
    "AND f.startingvisitoid = f.visit_oid;\"\"\")"
   ]
  },
  {
   "cell_type": "code",
   "execution_count": null,
   "id": "fce9fcbd",
   "metadata": {},
   "outputs": [],
   "source": [
    "print(alchemy_object.compile(engine))"
   ]
  },
  {
   "cell_type": "code",
   "execution_count": null,
   "id": "a5480c26-cf74-4ce3-97b8-046f79f88fdf",
   "metadata": {},
   "outputs": [],
   "source": [
    "from src.database import read_sql"
   ]
  },
  {
   "cell_type": "code",
   "execution_count": null,
   "id": "35314c14-63cd-4ae8-a18b-84139f7f5586",
   "metadata": {},
   "outputs": [],
   "source": [
    "# (verify that there is only 1 primary diagnosis per visit)\n",
    "read_sql(\"\"\"with primary_counts as (\n",
    "\tSELECT count(*)\n",
    "\tfrom student_data.vwd_diagnosen as d join student_data.vwd_faelle as f\n",
    "\ton D.visit_oid = F.visit_oid where d.\"isPrimary\" = true group by F.startingvisitoid limit 10\n",
    ") select * from primary_counts where \"count\" != 1\"\"\")"
   ]
  },
  {
   "cell_type": "code",
   "execution_count": null,
   "id": "597cd6e0-a477-4cf9-8702-feca597d50a0",
   "metadata": {},
   "outputs": [],
   "source": [
    "# Wie viel Zeit vergeht im Durchschnitt, bis es die ersten Laborwerte gibt?\n",
    "# (checking only 100 samples & omitting observations before arrival)\n",
    "df = read_sql(\"\"\"with t as (select min(observationdatetime_minutes_since_start) as time\n",
    "from student_data.vwd_investigationresults as i join student_data.vwd_faelle as f\n",
    "on i.patientvisit_oid = f.visit_oid group by F.startingvisitoid limit 100) select * from t where time > 0 \"\"\")\n",
    "df.head()"
   ]
  },
  {
   "cell_type": "code",
   "execution_count": null,
   "id": "5a48c73b-3f37-41d2-8a6e-efec5a96766f",
   "metadata": {},
   "outputs": [],
   "source": [
    "# Wie viel Zeit vergeht im Durchschnitt, bis es die ersten Laborwerte gibt?\n",
    "# (checking only 100 samples & omitting observations before arrival)\n",
    "df = read_sql(\"\"\"with t as (select min(observationdatetime_minutes_since_start) as time\n",
    "from student_data.vwd_investigationresults as i join student_data.vwd_faelle as f\n",
    "on i.patientvisit_oid = f.visit_oid group by F.startingvisitoid limit 100) select * from t where time > 0 \"\"\")\n",
    "df.head()"
   ]
  },
  {
   "cell_type": "code",
   "execution_count": null,
   "id": "41894f49-050a-43b4-9db3-ca53c4c74021",
   "metadata": {},
   "outputs": [],
   "source": [
    "df.hist()"
   ]
  },
  {
   "cell_type": "code",
   "execution_count": null,
   "id": "585d2718-cd49-43d2-8a5d-f48adf200c74",
   "metadata": {},
   "outputs": [],
   "source": [
    "# Was sind die Top 10 Erkrankungen, mit denen man im KEVB liegt?\n",
    "read_sql(\"\"\"select d.\"Code\", count(d.\"Code\") as code_count\n",
    "from student_data.vwd_diagnosen as d\n",
    "join student_data.vwd_faelle as f on D.visit_oid = F.visit_oid\n",
    "where d.\"isPrimary\" = true and F.startingvisitoid = f.visit_oid\n",
    "group by d.\"Code\"\n",
    "order by code_count desc\n",
    "limit 10\"\"\")"
   ]
  }
 ],
 "metadata": {
  "kernelspec": {
   "display_name": "Python 3 (ipykernel)",
   "language": "python",
   "name": "python3"
  },
  "language_info": {
   "codemirror_mode": {
    "name": "ipython",
    "version": 3
   },
   "file_extension": ".py",
   "mimetype": "text/x-python",
   "name": "python",
   "nbconvert_exporter": "python",
   "pygments_lexer": "ipython3",
   "version": "3.11.6"
  }
 },
 "nbformat": 4,
 "nbformat_minor": 5
}
