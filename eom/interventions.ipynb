{
 "cells": [
  {
   "cell_type": "code",
   "execution_count": null,
   "id": "2c85d7b4-72c4-440f-b975-c93a1030fd16",
   "metadata": {},
   "outputs": [],
   "source": [
    "import pandas as pd\n",
    "import matplotlib.pyplot as plt"
   ]
  },
  {
   "cell_type": "code",
   "execution_count": null,
   "id": "0e8e9f24-4ecc-49b3-8700-252675381b85",
   "metadata": {},
   "outputs": [],
   "source": [
    "interventions = pd.read_csv('data/interventions.tsv', sep='\\t')\n",
    "interventions['y'] = [-1000] * len(interventions)\n",
    "markers = pd.Series(['o'] * len(interventions))\n",
    "relaxed = interventions[interventions['measure_type_manually'] == 'relaxed']\n",
    "tightened = interventions[interventions['measure_type_manually'] == 'tightened']\n",
    "unclear = interventions[interventions['measure_type_manually'] == 'unclear']\n",
    "plt.figure(figsize=(10, 2))\n",
    "plt.scatter(pd.to_datetime(relaxed['timestamp']), relaxed.y, marker='o', color='gray', alpha=0.6, label='Relaxation')\n",
    "plt.scatter(pd.to_datetime(tightened['timestamp']), tightened.y, marker='^', color='gray', alpha=0.6, label='Verschärfung')\n",
    "plt.legend()\n",
    "plt.savefig('interventions.svg')"
   ]
  },
  {
   "cell_type": "code",
   "execution_count": null,
   "id": "e4c98066-a756-4871-9d1d-98e7de3fc483",
   "metadata": {},
   "outputs": [],
   "source": []
  }
 ],
 "metadata": {
  "kernelspec": {
   "display_name": "Python 3 (ipykernel)",
   "language": "python",
   "name": "python3"
  },
  "language_info": {
   "codemirror_mode": {
    "name": "ipython",
    "version": 3
   },
   "file_extension": ".py",
   "mimetype": "text/x-python",
   "name": "python",
   "nbconvert_exporter": "python",
   "pygments_lexer": "ipython3",
   "version": "3.10.9"
  }
 },
 "nbformat": 4,
 "nbformat_minor": 5
}
