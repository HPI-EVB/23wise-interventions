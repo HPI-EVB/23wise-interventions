{
 "cells": [
  {
   "cell_type": "code",
   "execution_count": null,
   "id": "556393eb-2c92-4a25-9125-6dab3bdda54d",
   "metadata": {},
   "outputs": [],
   "source": [
    "from IPython.display import display, HTML\n",
    "\n",
    "import pandas as pd\n",
    "import matplotlib.pyplot as plt\n",
    "\n",
    "from src.evb import get_evb_incidence, get_evb_sick_notes\n",
    "from src.rki import get_consultations, get_grippeweb"
   ]
  },
  {
   "cell_type": "code",
   "execution_count": null,
   "id": "86a55330-42aa-459b-9a40-466a94670795",
   "metadata": {},
   "outputs": [],
   "source": [
    "sick_notes = get_evb_sick_notes()\n",
    "# compound data\n",
    "merged = pd.merge(\n",
    "    pd.merge(\n",
    "        get_evb_incidence(),\n",
    "        get_consultations(),\n",
    "        on='Week', how='outer'),\n",
    "    get_grippeweb(),\n",
    "    on='Week', how='outer'\n",
    ").sort_values('Week').set_index('Week')\n",
    "merged.head()"
   ]
  },
  {
   "cell_type": "code",
   "execution_count": null,
   "id": "39b2bf96-ef8e-410c-8c09-ff3fade71e5f",
   "metadata": {},
   "outputs": [],
   "source": [
    "def _plot_since(date: str):\n",
    "    ax = merged.loc[pd.to_datetime(date):].plot(\n",
    "        alpha=0.6,\n",
    "        figsize=(10, 5),\n",
    "        title=f'Incidence comparison since {date}',\n",
    "        xlabel='Week',\n",
    "        ylabel='7-day incidence'\n",
    "    )\n",
    "    ax.legend(loc='upper left')\n",
    "\n",
    "    from pandas.plotting._matplotlib.style import get_standard_colors\n",
    "    ax2 = ax.twinx()\n",
    "    sick_notes.loc[pd.to_datetime(date):].plot(\n",
    "        ax=ax2,\n",
    "        color=get_standard_colors(num_colors=len(merged.columns) + 1)[-1],\n",
    "        alpha=0.6\n",
    "    )\n",
    "    \n",
    "_plot_since('2014')\n",
    "_plot_since('2020')"
   ]
  },
  {
   "cell_type": "code",
   "execution_count": null,
   "id": "7c8dcad4-abb4-47b4-8b01-00f01b0af752",
   "metadata": {},
   "outputs": [],
   "source": [
    "def plot_winter(season: int):\n",
    "    df =  merged.loc[pd.to_datetime(f'20{season}-10-01'):pd.to_datetime(f'20{season + 1}-03-31')]\n",
    "    ax = df.pct_change().plot.bar(\n",
    "        alpha=0.7,\n",
    "        figsize=(10, 3),\n",
    "        title=f'Comparison of relative change in incidence, winter 20{season}/{season + 1}',\n",
    "        rot=0,\n",
    "        ylabel='Relative change of 7-day incidence'\n",
    "    )\n",
    "    tick_labels = ['' if d.day > 7 else d.strftime('%b') for d in df.index]\n",
    "    ax.set_xticklabels(tick_labels)\n",
    "    ax.legend(loc='upper right')\n",
    "    \n",
    "    ax = df.plot(\n",
    "        alpha=0.7,\n",
    "        figsize=(10, 3),\n",
    "        title=f'Comparison of incidence, winter 20{season}/{season + 1}',\n",
    "        ylabel='7-day incidence'\n",
    "    )\n",
    "    ax.legend(loc='upper right')\n",
    "    \n",
    "    df = (df - df.min()) / (df.max() - df.min())\n",
    "    ax = df.plot(\n",
    "        alpha=0.7,\n",
    "        figsize=(10, 3),\n",
    "        # title=f'Min-Max-normalized 7-day incidence, winter 20{season}/{season + 1}',\n",
    "        ylabel='Normalized incidence'\n",
    "    )\n",
    "    ax.legend(loc='upper right')"
   ]
  },
  {
   "cell_type": "code",
   "execution_count": null,
   "id": "4e1931ac-1b66-4203-80bd-389e21f1d42f",
   "metadata": {},
   "outputs": [],
   "source": [
    "plot_winter(21)"
   ]
  },
  {
   "cell_type": "code",
   "execution_count": null,
   "id": "2fb35a18-724e-41ff-b653-6306ae1826ef",
   "metadata": {},
   "outputs": [],
   "source": []
  }
 ],
 "metadata": {
  "kernelspec": {
   "display_name": "Python 3 (ipykernel)",
   "language": "python",
   "name": "python3"
  },
  "language_info": {
   "codemirror_mode": {
    "name": "ipython",
    "version": 3
   },
   "file_extension": ".py",
   "mimetype": "text/x-python",
   "name": "python",
   "nbconvert_exporter": "python",
   "pygments_lexer": "ipython3",
   "version": "3.10.9"
  }
 },
 "nbformat": 4,
 "nbformat_minor": 5
}
