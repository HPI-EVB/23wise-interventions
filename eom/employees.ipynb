{
 "cells": [
  {
   "cell_type": "code",
   "execution_count": null,
   "id": "556393eb-2c92-4a25-9125-6dab3bdda54d",
   "metadata": {},
   "outputs": [],
   "source": [
    "import pandas as pd\n",
    "import matplotlib.pyplot as plt\n",
    "\n",
    "from src.database import read_sql"
   ]
  },
  {
   "cell_type": "code",
   "execution_count": null,
   "id": "804ec4f3-7cdc-4787-8ad4-8fb42efc41a6",
   "metadata": {},
   "outputs": [],
   "source": [
    "sql_sickness_abbr = '''\n",
    "    SELECT neu_kurz as sickness_abbr, string_agg(sdienst_lang, ', ') as description FROM spxdb_archiv_2023.sdienst_mapping\n",
    "    WHERE sdienst_lang ILIKE('%krank%') AND sdienst_lang NOT ILIKE('%nicht krank%')\n",
    "    GROUP BY sickness_abbr\n",
    "'''\n",
    "read_sql(sql_sickness_abbr)"
   ]
  },
  {
   "cell_type": "code",
   "execution_count": null,
   "id": "89cd3bf4-bace-4b20-bc86-da17828a8e72",
   "metadata": {},
   "outputs": [],
   "source": [
    "sql_sickness_plan = f'WITH mapping AS ({sql_sickness_abbr})' + '''\n",
    "    SELECT *\n",
    "    FROM mapping JOIN spxdb_archiv_2023.monatsplan_adapted AS plan\n",
    "    ON mapping.sickness_abbr = plan.sdienst_kurz_adapted\n",
    "    WHERE plan.mpebene = 1 -- filter for \"ist\" (vs. e.g. \"soll\")\n",
    "'''\n",
    "read_sql(sql_sickness_plan + ' LIMIT 10')"
   ]
  },
  {
   "cell_type": "code",
   "execution_count": null,
   "id": "d073a785-a50f-494a-8626-336faa7b1afb",
   "metadata": {},
   "outputs": [],
   "source": [
    "sickness_count = read_sql(f'''\n",
    "    WITH plan AS ({sql_sickness_plan})\n",
    "    SELECT\n",
    "        DATE_TRUNC('week', (DATE '1990-01-01' + (tag_f * INTERVAL '1 day'))) AS week_start,\n",
    "        COUNT(*) as sickness_entries\n",
    "     FROM plan GROUP BY week_start;\n",
    "''')\n",
    "\n",
    "plt.figure(figsize=(12, 6))\n",
    "plt.plot(sickness_count['week_start'], sickness_count['sickness_entries'])\n",
    "plt.title('Wöchentliche Eintragungen von Krankheit')\n",
    "plt.xlabel('Kalenderwoche')\n",
    "plt.ylabel('Anzahl')"
   ]
  },
  {
   "cell_type": "code",
   "execution_count": null,
   "id": "5b29df1b-e65c-48c1-b60d-782524b06ca6",
   "metadata": {},
   "outputs": [],
   "source": []
  }
 ],
 "metadata": {
  "kernelspec": {
   "display_name": "Python 3 (ipykernel)",
   "language": "python",
   "name": "python3"
  },
  "language_info": {
   "codemirror_mode": {
    "name": "ipython",
    "version": 3
   },
   "file_extension": ".py",
   "mimetype": "text/x-python",
   "name": "python",
   "nbconvert_exporter": "python",
   "pygments_lexer": "ipython3",
   "version": "3.10.9"
  }
 },
 "nbformat": 4,
 "nbformat_minor": 5
}
