{
 "cells": [
  {
   "cell_type": "code",
   "execution_count": null,
   "id": "556393eb-2c92-4a25-9125-6dab3bdda54d",
   "metadata": {},
   "outputs": [],
   "source": [
    "from IPython.display import display, HTML\n",
    "\n",
    "import pandas as pd\n",
    "import matplotlib.pyplot as plt\n",
    "\n",
    "from src.database import read_sql\n",
    "from src.plotting import plot_multi"
   ]
  },
  {
   "cell_type": "code",
   "execution_count": null,
   "id": "804ec4f3-7cdc-4787-8ad4-8fb42efc41a6",
   "metadata": {},
   "outputs": [],
   "source": [
    "# Schichtfunktionen\n",
    "ignored_shifts = [\n",
    "# from sickness shifts\n",
    "    'K>6', # länger 6 wochen krank -> nicht inzidenz\n",
    "    'KK', # kind krank -> nicht inzidenz\n",
    "# from absent non-sick\n",
    "    # '!', # urlaub, hier meldet man sich trotzdem krank\n",
    "    'ABW-Sonstige', # sonstige sind zu vielfältig\n",
    "    'Sonstige',\n",
    "    # 'AH', # einsatz außer haus\n",
    "    'AM', # Abwesenheitsmeldung, würden sich sonst krank melden\n",
    "    'AWU', # arbeits-/wegeunfall -> werden nicht von maßnahmen beeinflusst\n",
    "    # 'A-ZG', # ausgleich zeitguthaben, betrachtet wie urlaub\n",
    "    # 'BR', # betriebsratstag, würden sich auch krank melden\n",
    "    'BV', # beschäftigungsverbot, beeinflussen inzidenz nicht\n",
    "    # 'DR', # dienstreise, würden sich auch krank melden\n",
    "    'EU-Re', # erwerbsunfähigkeitsrente, i.e. > 1.5J abwesend\n",
    "    'EZ', # elternzeit, lange nicht da\n",
    "    # 'F', # fortbildung, würden sich krank melden\n",
    "    # 'KA', # kurzarbeit, würden sich auch krank melden\n",
    "    'KUR', # kur, länger nicht da\n",
    "    'MU', # mutterschutz, länger nicht da\n",
    "    'QT', # quarantäne\n",
    "    # 'R', # regenerationstag, würde sich auch krank melden\n",
    "    # 'S', # streik, sonderurlaub, würden sich auch krank melden\n",
    "    # 'U', # urlaub, würden sich krank melden\n",
    "    # 'WB', # weiterbildung, würden sich krank melden\n",
    "    # 'X', # dienstfrei, würden sich auch krank melden; machen sie aber nicht -> WEIHNACHTSKNICKE\n",
    "    # 'X-F', # ersatzruhetag, würden sich auch krank melden\n",
    "    # 'X-S' # ersatzruhetag, würden sich auch krank melden\n",
    "]\n",
    "sql_ignored_shifts = ' AND '.join((f\"neu_kurz NOT ILIKE('{shift}')\" for shift in ignored_shifts))\n",
    "sql_sickness_abbr = f'''\n",
    "    SELECT neu_kurz as abbr, string_agg(sdienst_lang, ', ') as description FROM spxdb_archiv_2023.sdienst_mapping\n",
    "    WHERE sdienst_lang ILIKE('%krank%') AND sdienst_lang NOT ILIKE('%nicht krank%') AND {sql_ignored_shifts}\n",
    "    GROUP BY abbr\n",
    "'''\n",
    "print('Schichtfunktionen mit Krankheit')\n",
    "display(read_sql(sql_sickness_abbr))\n",
    "\n",
    "sql_all_abbr = f'''\n",
    "    SELECT neu_kurz as abbr, string_agg(sdienst_lang, ', ') as description FROM spxdb_archiv_2023.sdienst_mapping\n",
    "    WHERE {sql_ignored_shifts}\n",
    "    GROUP BY abbr\n",
    "'''\n",
    "print('Nicht abwesende und kranke Schichten, i.e. alle die für Inzidenz relevant sind (erste 10)')\n",
    "display(read_sql(sql_all_abbr + ' LIMIT 5'))"
   ]
  },
  {
   "cell_type": "code",
   "execution_count": null,
   "id": "89cd3bf4-bace-4b20-bc86-da17828a8e72",
   "metadata": {},
   "outputs": [],
   "source": [
    "# Schichten\n",
    "def _sql_shifts_from_abbr(abbr: str) -> str:\n",
    "    return f'''WITH mapping AS ({abbr})\n",
    "        SELECT *\n",
    "        FROM mapping JOIN spxdb_archiv_2023.monatsplan_adapted AS plan\n",
    "        ON mapping.abbr = plan.sdienst_kurz_adapted\n",
    "        WHERE plan.mpebene = 1 -- filter for \"ist\" (vs. e.g. \"soll\")\n",
    "    '''\n",
    "sql_sickness_plan = _sql_shifts_from_abbr(sql_sickness_abbr)\n",
    "print(\"Schichten mit Krankheit\")\n",
    "display(read_sql(sql_sickness_plan + ' LIMIT 3'))\n",
    "\n",
    "sql_all_plan = _sql_shifts_from_abbr(sql_all_abbr)\n",
    "print(\"Alle für Inzidenz zu zählende Schichten\")\n",
    "display(read_sql(sql_all_plan + ' LIMIT 3'))"
   ]
  },
  {
   "cell_type": "code",
   "execution_count": null,
   "id": "d073a785-a50f-494a-8626-336faa7b1afb",
   "metadata": {},
   "outputs": [],
   "source": [
    "def _counts(plan: str, name: str) -> pd.DataFrame:\n",
    "    return read_sql(f'''\n",
    "        WITH plan AS ({plan})\n",
    "        SELECT\n",
    "            DATE_TRUNC('week', (DATE '1990-01-01' + (tag_f * INTERVAL '1 day'))) AS \"Kalenderwoche\",\n",
    "            COUNT(*) as \"{name}\"\n",
    "         FROM plan GROUP BY \"Kalenderwoche\";\n",
    "    ''')\n",
    "\n",
    "sickness_count = _counts(sql_sickness_plan, 'sick')\n",
    "all_count = _counts(sql_all_plan, 'all')\n",
    "\n",
    "evb = pd.merge(sickness_count, all_count, on='Kalenderwoche')\n",
    "evb['EVB'] = evb['sick'] / evb['all'] * 100000\n",
    "evb = evb.drop(columns=['sick', 'all'])\n",
    "\n",
    "plt.figure(figsize=(10, 5))\n",
    "plt.plot(evb['Kalenderwoche'], evb['EVB'])\n",
    "plt.title('7-Tage Inzidenz im EVB')\n",
    "plt.xlabel('Kalenderwoche')\n",
    "plt.ylabel('Anzahl')"
   ]
  },
  {
   "cell_type": "code",
   "execution_count": null,
   "id": "5b29df1b-e65c-48c1-b60d-782524b06ca6",
   "metadata": {},
   "outputs": [],
   "source": [
    "# load grippeweb data & parse dates\n",
    "grippeweb_original = pd.read_csv('https://raw.githubusercontent.com/robert-koch-institut/GrippeWeb_Daten_des_Wochenberichts/main/GrippeWeb_Daten_des_Wochenberichts.tsv',\n",
    "sep='\\t', index_col='Kalenderwoche')\n",
    "grippeweb_original.index = pd.to_datetime(grippeweb_original.index + '-1', format='%G-W%V-%u')\n",
    "\n",
    "# filter & accumulate\n",
    "grippeweb = grippeweb_original.loc[\n",
    "     grippeweb_original.Altersgruppe.str.contains('15-34|35-59') & # Region 'Osten' only has 00+ age group\n",
    "    (grippeweb_original.Region == 'Bundesweit') &\n",
    "    (grippeweb_original.Erkrankung == 'ARE')\n",
    "]\\\n",
    "    .groupby('Kalenderwoche')\\\n",
    "    .Inzidenz.mean()\\\n",
    "    .reset_index()\\\n",
    "    .rename(columns={ 'Inzidenz': 'GrippeWeb' })\n",
    "\n",
    "\n",
    "# load consultations data & parse dates\n",
    "consultation_original = pd.read_csv('https://raw.githubusercontent.com/robert-koch-institut/ARE-Konsultationsinzidenz/main/ARE-Konsultationsinzidenz.tsv',\n",
    "sep='\\t', index_col='Kalenderwoche')\n",
    "consultation_original.index = pd.to_datetime(consultation_original.index + '-1', format='%G-W%V-%u')\n",
    "\n",
    "# filter & accumulate\n",
    "consultations = consultation_original.loc[\n",
    "    consultation_original.Altersgruppe.str.contains('15-34|35-59') &\n",
    "    consultation_original.Bundesland.str.contains('Bundesweit')\n",
    "]\\\n",
    "    .groupby('Kalenderwoche')\\\n",
    "    .ARE_Konsultationsinzidenz.mean()\\\n",
    "    .reset_index()\\\n",
    "    .rename(columns={ 'ARE_Konsultationsinzidenz': 'Konsultationen' })"
   ]
  },
  {
   "cell_type": "code",
   "execution_count": null,
   "id": "98625725-bba0-4949-a271-bd408c5ca2aa",
   "metadata": {},
   "outputs": [],
   "source": [
    "sickl = read_sql('''\n",
    "    SELECT\n",
    "        DATE_TRUNC('week', DATE(ks.min_date)) AS \"Kalenderwoche\",\n",
    "        SUM(ks.anzahl) as \"Krankschreibungen\"\n",
    "    FROM\n",
    "        student_data.mvz_krankschreibungen as ks\n",
    "    GROUP BY \"Kalenderwoche\"\n",
    "    ORDER BY \"Kalenderwoche\"\n",
    "''').sort_values('Kalenderwoche').set_index('Kalenderwoche')\n",
    "sickl.plot()\n",
    "sickl.index = pd.to_datetime(sickl.index).tz_localize(None)"
   ]
  },
  {
   "cell_type": "code",
   "execution_count": null,
   "id": "184d0627-5273-4956-b471-a62e159d40dc",
   "metadata": {},
   "outputs": [],
   "source": [
    "sickl.head()"
   ]
  },
  {
   "cell_type": "code",
   "execution_count": null,
   "id": "86a55330-42aa-459b-9a40-466a94670795",
   "metadata": {},
   "outputs": [],
   "source": [
    "# merge data\n",
    "merged = pd.merge(\n",
    "    pd.merge(\n",
    "        evb,\n",
    "        consultations,\n",
    "        on='Kalenderwoche', how='outer'),\n",
    "    grippeweb,\n",
    "    on='Kalenderwoche', how='outer'\n",
    ").sort_values('Kalenderwoche').set_index('Kalenderwoche')\n",
    "merged.head()"
   ]
  },
  {
   "cell_type": "code",
   "execution_count": null,
   "id": "39b2bf96-ef8e-410c-8c09-ff3fade71e5f",
   "metadata": {},
   "outputs": [],
   "source": [
    "def _plot_since(date: str):\n",
    "    ax = merged.loc[pd.to_datetime(date):].plot(\n",
    "        alpha=0.6,\n",
    "        figsize=(10, 5),\n",
    "        title=f'Inzidenz-Vergleich seit {date}',\n",
    "        xlabel='Kalenderwoche',\n",
    "        ylabel='7-Tage Inzidenz'\n",
    "    )\n",
    "    ax.legend(loc='upper left')\n",
    "\n",
    "    from pandas.plotting._matplotlib.style import get_standard_colors\n",
    "    ax2 = ax.twinx()\n",
    "    sickl.loc[pd.to_datetime(date):].plot(\n",
    "        ax=ax2,\n",
    "        color=get_standard_colors(num_colors=len(merged.columns) + 1)[-1],\n",
    "        alpha=0.6\n",
    "    )\n",
    "    \n",
    "_plot_since('2014')\n",
    "_plot_since('2020')"
   ]
  },
  {
   "cell_type": "code",
   "execution_count": null,
   "id": "7c8dcad4-abb4-47b4-8b01-00f01b0af752",
   "metadata": {},
   "outputs": [],
   "source": [
    "def plot_winter(season: int):\n",
    "    df =  merged.loc[pd.to_datetime(f'20{season}-10-01'):pd.to_datetime(f'20{season + 1}-03-31')]\n",
    "    ax = df.pct_change().plot.bar(\n",
    "        alpha=0.7,\n",
    "        figsize=(10, 3),\n",
    "        title=f'Vergleich der relativen Änderung der Inzidenz im Winter 20{season}/{season + 1}',\n",
    "        rot=0,\n",
    "        ylabel='Relative Änderung 7-Tage Inzidenz'\n",
    "    )\n",
    "    tick_labels = ['' if d.day > 7 else d.strftime('%b') for d in df.index]\n",
    "    ax.set_xticklabels(tick_labels)\n",
    "    ax.legend(loc='upper right')\n",
    "    \n",
    "    ax = df.plot(\n",
    "        alpha=0.7,\n",
    "        figsize=(10, 3),\n",
    "        title=f'Inzidenz-Vergleich im Winter 20{season}/{season + 1}',\n",
    "        ylabel='7-Tage Inzidenz'\n",
    "    )\n",
    "    ax.legend(loc='upper right')\n",
    "    \n",
    "    df = (df - df.min()) / (df.max() - df.min())\n",
    "    ax = df.plot(\n",
    "        alpha=0.7,\n",
    "        figsize=(10, 3),\n",
    "        title=f'Min-Max-normalisierte 7-Tage Inzidenz im Winter 20{season}/{season + 1}',\n",
    "        ylabel='Normalisierte Inzidenz'\n",
    "    )\n",
    "    ax.legend(loc='upper right')"
   ]
  },
  {
   "cell_type": "code",
   "execution_count": null,
   "id": "a03370b1-0ce6-4a5f-8f8e-b74ca4fefe20",
   "metadata": {},
   "outputs": [],
   "source": [
    "plot_winter(20)"
   ]
  },
  {
   "cell_type": "code",
   "execution_count": null,
   "id": "4e1931ac-1b66-4203-80bd-389e21f1d42f",
   "metadata": {},
   "outputs": [],
   "source": [
    "plot_winter(21)"
   ]
  },
  {
   "cell_type": "code",
   "execution_count": null,
   "id": "c77d5a22-6fd0-45a3-a974-b0e83641791e",
   "metadata": {},
   "outputs": [],
   "source": [
    "plot_winter(22)"
   ]
  },
  {
   "cell_type": "code",
   "execution_count": null,
   "id": "e49e6e08-820a-4564-a97e-c20060a1d721",
   "metadata": {},
   "outputs": [],
   "source": [
    "plot_winter(17)"
   ]
  },
  {
   "cell_type": "code",
   "execution_count": null,
   "id": "90dd0081-bdc7-4924-942c-4b1d7e0f029b",
   "metadata": {},
   "outputs": [],
   "source": []
  }
 ],
 "metadata": {
  "kernelspec": {
   "display_name": "Python 3 (ipykernel)",
   "language": "python",
   "name": "python3"
  },
  "language_info": {
   "codemirror_mode": {
    "name": "ipython",
    "version": 3
   },
   "file_extension": ".py",
   "mimetype": "text/x-python",
   "name": "python",
   "nbconvert_exporter": "python",
   "pygments_lexer": "ipython3",
   "version": "3.10.9"
  }
 },
 "nbformat": 4,
 "nbformat_minor": 5
}
