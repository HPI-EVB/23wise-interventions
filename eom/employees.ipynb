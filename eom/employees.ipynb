{
 "cells": [
  {
   "cell_type": "code",
   "execution_count": null,
   "id": "556393eb-2c92-4a25-9125-6dab3bdda54d",
   "metadata": {},
   "outputs": [],
   "source": [
    "import pandas as pd\n",
    "import matplotlib.pyplot as plt\n",
    "\n",
    "from src.database import read_sql\n",
    "from src.plotting import plot_multi"
   ]
  },
  {
   "cell_type": "code",
   "execution_count": null,
   "id": "804ec4f3-7cdc-4787-8ad4-8fb42efc41a6",
   "metadata": {},
   "outputs": [],
   "source": [
    "sql_sickness_abbr = '''\n",
    "    SELECT neu_kurz as sickness_abbr, string_agg(sdienst_lang, ', ') as description FROM spxdb_archiv_2023.sdienst_mapping\n",
    "    WHERE sdienst_lang ILIKE('%krank%') AND sdienst_lang NOT ILIKE('%nicht krank%')\n",
    "    GROUP BY sickness_abbr\n",
    "'''\n",
    "read_sql(sql_sickness_abbr)"
   ]
  },
  {
   "cell_type": "code",
   "execution_count": null,
   "id": "89cd3bf4-bace-4b20-bc86-da17828a8e72",
   "metadata": {},
   "outputs": [],
   "source": [
    "sql_sickness_plan = f'WITH mapping AS ({sql_sickness_abbr})' + '''\n",
    "    SELECT *\n",
    "    FROM mapping JOIN spxdb_archiv_2023.monatsplan_adapted AS plan\n",
    "    ON mapping.sickness_abbr = plan.sdienst_kurz_adapted\n",
    "    WHERE plan.mpebene = 1 -- filter for \"ist\" (vs. e.g. \"soll\")\n",
    "'''\n",
    "read_sql(sql_sickness_plan + ' LIMIT 10')"
   ]
  },
  {
   "cell_type": "code",
   "execution_count": null,
   "id": "d073a785-a50f-494a-8626-336faa7b1afb",
   "metadata": {},
   "outputs": [],
   "source": [
    "sickness_count = read_sql(f'''\n",
    "    WITH plan AS ({sql_sickness_plan})\n",
    "    SELECT\n",
    "        DATE_TRUNC('week', (DATE '1990-01-01' + (tag_f * INTERVAL '1 day'))) AS \"Kalenderwoche\",\n",
    "        COUNT(*) as \"EVB\"\n",
    "     FROM plan GROUP BY \"Kalenderwoche\";\n",
    "''')\n",
    "\n",
    "plt.figure(figsize=(10, 5))\n",
    "plt.plot(sickness_count['Kalenderwoche'], sickness_count['EVB'])\n",
    "plt.title('Wöchentliche Eintragungen von Krankheit')\n",
    "plt.xlabel('Kalenderwoche')\n",
    "plt.ylabel('Anzahl')"
   ]
  },
  {
   "cell_type": "code",
   "execution_count": null,
   "id": "5b29df1b-e65c-48c1-b60d-782524b06ca6",
   "metadata": {},
   "outputs": [],
   "source": [
    "# load grippeweb data & parse dates\n",
    "grippeweb_original = pd.read_csv('https://raw.githubusercontent.com/robert-koch-institut/GrippeWeb_Daten_des_Wochenberichts/main/GrippeWeb_Daten_des_Wochenberichts.tsv',\n",
    "sep='\\t', index_col='Kalenderwoche')\n",
    "grippeweb_original.index = pd.to_datetime(grippeweb_original.index + '-1', format='%G-W%V-%u')\n",
    "\n",
    "# filter & accumulate\n",
    "grippeweb = grippeweb_original.loc[\n",
    "     # grippeweb_original.Altersgruppe.str.contains(\"15-34|35-59\") & # Region 'Osten' only has 00+ age group\n",
    "    (grippeweb_original.Region == 'Osten') &\n",
    "    (grippeweb_original.Erkrankung == 'ARE')\n",
    "]\\\n",
    "    .groupby('Kalenderwoche')\\\n",
    "    .Inzidenz.sum()\\\n",
    "    .reset_index()\\\n",
    "    .rename(columns={ 'Inzidenz': 'GrippeWeb' })\n",
    "\n",
    "\n",
    "# load consultations data & parse dates\n",
    "consultation_original = pd.read_csv('https://raw.githubusercontent.com/robert-koch-institut/ARE-Konsultationsinzidenz/main/ARE-Konsultationsinzidenz.tsv',\n",
    "sep='\\t', index_col='Kalenderwoche')\n",
    "consultation_original.index = pd.to_datetime(consultation_original.index + '-1', format='%G-W%V-%u')\n",
    "\n",
    "# filter & accumulate\n",
    "consultations = consultation_original.loc[\n",
    "    consultation_original.Altersgruppe.str.contains('15-34|35-59') &\n",
    "    consultation_original.Bundesland.str.contains('Berlin|Brandenburg')\n",
    "    # consultation_original.Bundesland.str.contains('Bundesweit')\n",
    "]\\\n",
    "    .groupby('Kalenderwoche')\\\n",
    "    .ARE_Konsultationsinzidenz.sum()\\\n",
    "    .reset_index()\\\n",
    "    .rename(columns={ 'ARE_Konsultationsinzidenz': 'Konsultationen' })"
   ]
  },
  {
   "cell_type": "code",
   "execution_count": null,
   "id": "86a55330-42aa-459b-9a40-466a94670795",
   "metadata": {},
   "outputs": [],
   "source": [
    "# merge data\n",
    "merged = pd.merge(\n",
    "    pd.merge(sickness_count, consultations, on='Kalenderwoche', how='outer'),\n",
    "    grippeweb, on='Kalenderwoche', how='outer'\n",
    ").sort_values('Kalenderwoche').set_index('Kalenderwoche')\n",
    "merged.head()"
   ]
  },
  {
   "cell_type": "code",
   "execution_count": null,
   "id": "c883bcec-d8f7-46b7-a291-614226634d93",
   "metadata": {},
   "outputs": [],
   "source": [
    "plot_multi(merged, figsize=(10, 5), title='Alle Daten')"
   ]
  },
  {
   "cell_type": "code",
   "execution_count": null,
   "id": "bf1134f7-d923-4617-a188-cef9559286a4",
   "metadata": {},
   "outputs": [],
   "source": [
    "plot_multi(merged.loc[pd.to_datetime('2020-01-01'):], figsize=(10, 5), title='Daten ab 2020')"
   ]
  },
  {
   "cell_type": "code",
   "execution_count": null,
   "id": "6a27ccc0-f2d8-458d-8393-a287c24b7c60",
   "metadata": {},
   "outputs": [],
   "source": []
  },
  {
   "cell_type": "code",
   "execution_count": null,
   "id": "3b0380cd-8fb4-489a-9469-7ddccdc33d75",
   "metadata": {},
   "outputs": [],
   "source": []
  }
 ],
 "metadata": {
  "kernelspec": {
   "display_name": "Python 3 (ipykernel)",
   "language": "python",
   "name": "python3"
  },
  "language_info": {
   "codemirror_mode": {
    "name": "ipython",
    "version": 3
   },
   "file_extension": ".py",
   "mimetype": "text/x-python",
   "name": "python",
   "nbconvert_exporter": "python",
   "pygments_lexer": "ipython3",
   "version": "3.10.9"
  }
 },
 "nbformat": 4,
 "nbformat_minor": 5
}
