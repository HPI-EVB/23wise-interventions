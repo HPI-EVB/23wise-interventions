{
 "cells": [
  {
   "cell_type": "code",
   "execution_count": null,
   "id": "6fcd1e82-f265-4eee-a089-bcf2abcae6cb",
   "metadata": {},
   "outputs": [],
   "source": [
    "import numpy as np\n",
    "import pandas as pd\n",
    "from pandas.plotting._matplotlib.style import get_standard_colors\n",
    "import matplotlib.pyplot as plt\n",
    "from patsy import dmatrices\n",
    "import statsmodels.api as sm\n",
    "\n",
    "from src.evb import get_evb_incidence\n",
    "from src.rki import get_consultations"
   ]
  },
  {
   "cell_type": "code",
   "execution_count": null,
   "id": "89d17085-e3c7-4ebd-8815-2993c5193132",
   "metadata": {},
   "outputs": [],
   "source": [
    "evb = get_evb_incidence().set_index('Kalenderwoche').rename(columns={ 'EVB': 'incidence' })\n",
    "evb['group_is_treatment'] = 1\n",
    "consultations = get_consultations().set_index('Kalenderwoche').rename(columns={ 'Konsultationen': 'incidence' })\n",
    "consultations['group_is_treatment'] = 0"
   ]
  },
  {
   "cell_type": "code",
   "execution_count": null,
   "id": "7159f9b6-0eb7-441f-bacc-0794f669216a",
   "metadata": {},
   "outputs": [],
   "source": [
    "def model_did(start, end, intervention, plot=False):\n",
    "    df = pd.concat([\n",
    "        evb.loc[pd.to_datetime(start):pd.to_datetime(end)],\n",
    "        consultations.loc[pd.to_datetime(start):pd.to_datetime(end)]\n",
    "    ]).reset_index()\n",
    "    df['after_treatment'] = (df['Kalenderwoche'] > pd.to_datetime(intervention)).astype(int)\n",
    "    y_train, X_train = dmatrices('incidence ~ group_is_treatment + after_treatment + group_is_treatment * after_treatment', df, return_type='dataframe')\n",
    "    did_model = sm.OLS(endog=y_train, exog=X_train)\n",
    "    did = did_model.fit()\n",
    "    \n",
    "    if plot:\n",
    "        df['prediction'] = did.predict()\n",
    "\n",
    "        grouped = df.set_index('Kalenderwoche').groupby('group_is_treatment')\n",
    "        colors = get_standard_colors(num_colors=len(grouped))\n",
    "        fig, ax = plt.subplots(figsize=(10, 5))\n",
    "        axs = [ax, ax.twinx()]\n",
    "\n",
    "        for (label, df), color, ax in zip(grouped, colors, axs):\n",
    "            name = 'EVB' if label == 1 else 'Konsultationen'\n",
    "            df['incidence'].plot(ax=ax, label=name, color=color)\n",
    "            df['prediction'].plot(ax=ax, label='mean', color=color, alpha=0.6)\n",
    "\n",
    "        for ax, label in zip(axs, ['Konsultationen', 'EVB']):\n",
    "            ax.set_ylabel(label)\n",
    "            ax.legend()\n",
    "\n",
    "    return did"
   ]
  },
  {
   "cell_type": "code",
   "execution_count": null,
   "id": "7d3539c0-2c65-420a-996b-d67e6d05d224",
   "metadata": {},
   "outputs": [],
   "source": [
    "start_date = pd.to_datetime('2020-W1-1', format='%G-W%V-%u')\n",
    "n_weeks = int(52 * 3.5)\n",
    "test_range = 2\n",
    "\n",
    "weeks = [start_date + pd.Timedelta(i, 'W') for i in range(n_weeks)]\n",
    "df = pd.DataFrame({\n",
    "    'Kalenderwoche': weeks,\n",
    "    'p-Wert': ([np.nan] * test_range) + [\n",
    "        model_did(weeks[i - test_range], weeks[i + test_range],  weeks[i]).pvalues['group_is_treatment:after_treatment']\n",
    "    for i in range(test_range, n_weeks - test_range)] + ([np.nan] * test_range)\n",
    "}).set_index('Kalenderwoche')\n",
    "\n",
    "df.plot(figsize=(10, 5), logy=True)\n",
    "plt.axhline(y=0.05, color='r', linestyle='-', label='5%')\n",
    "plt.legend()"
   ]
  },
  {
   "cell_type": "code",
   "execution_count": null,
   "id": "b3fb562b-b956-4334-a480-45e59f262889",
   "metadata": {},
   "outputs": [],
   "source": []
  }
 ],
 "metadata": {
  "kernelspec": {
   "display_name": "Python 3 (ipykernel)",
   "language": "python",
   "name": "python3"
  },
  "language_info": {
   "codemirror_mode": {
    "name": "ipython",
    "version": 3
   },
   "file_extension": ".py",
   "mimetype": "text/x-python",
   "name": "python",
   "nbconvert_exporter": "python",
   "pygments_lexer": "ipython3",
   "version": "3.10.9"
  }
 },
 "nbformat": 4,
 "nbformat_minor": 5
}
