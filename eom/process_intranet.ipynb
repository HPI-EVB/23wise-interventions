{
 "cells": [
  {
   "cell_type": "code",
   "execution_count": null,
   "id": "b2359d04",
   "metadata": {},
   "outputs": [],
   "source": [
    "import pandas as pd"
   ]
  },
  {
   "cell_type": "code",
   "execution_count": null,
   "id": "9d4c22c3",
   "metadata": {},
   "outputs": [],
   "source": [
    "intranet_df = pd.read_csv(\"data/intranet_data.tsv\", encoding=\"utf-8\", sep=\"\\t\")"
   ]
  },
  {
   "cell_type": "code",
   "execution_count": null,
   "id": "c6103014",
   "metadata": {},
   "outputs": [],
   "source": [
    "keyword_df = intranet_df.copy()\n",
    "keywords = [\"Maske\", \"Mundnasenschutz\", \"FFP2\", \"Beschränkung\", \"Verbot\", \"Besuch\", \"Corona\", \"Covid\", \"Infektion\", \"Maßnahme\", \"Pflicht\", \"Gebot\", \"Hygiene\", \"Abstand\"]\n",
    "for keyword in keywords:\n",
    "    keyword_df[keyword] = keyword_df.message.str.lower().str.contains(keyword.lower())\n",
    "\n",
    "# n_matches refers to the number of matched keywords per message\n",
    "keyword_df[\"n_matches\"] = keyword_df[keywords].sum(axis=1)"
   ]
  },
  {
   "cell_type": "code",
   "execution_count": null,
   "id": "643dd9da",
   "metadata": {},
   "outputs": [],
   "source": [
    "# calculate cumulative sum of counts\n",
    "keyword_count = keyword_df.groupby(\"n_matches\").size().reset_index(name=\"count\")\n",
    "keyword_count = keyword_count.sort_values(\"n_matches\", ascending=False)\n",
    "keyword_count[\"cumulative_sum\"] = keyword_count[\"count\"].cumsum()\n",
    "keyword_count"
   ]
  },
  {
   "cell_type": "code",
   "execution_count": null,
   "id": "d803b14c",
   "metadata": {},
   "outputs": [],
   "source": [
    "import matplotlib.pyplot as plt\n",
    "plt.plot(\n",
    "    \"n_matches\",\n",
    "    \"cumulative_sum\",\n",
    "    data=keyword_count.loc[keyword_count.n_matches > 0],\n",
    ")\n",
    "plt.xlabel(\"≥ n distinct keywords in a message\")\n",
    "plt.ylabel(\"Number of messages\")\n",
    "plt.title(\"Number of messages vs. Distinct keywords per message\")"
   ]
  },
  {
   "cell_type": "markdown",
   "id": "614a478c",
   "metadata": {},
   "source": [
    "Setting the threshold of required keywords in a message to ≥ 4 seems reasonable."
   ]
  },
  {
   "cell_type": "markdown",
   "id": "7ff121cb-7d06-473c-bf19-982b94c769e6",
   "metadata": {},
   "source": [
    "## Calculating the ratio of keywords in the filtered messages\n",
    "Which of the keywords occur more often in the messages with more than 2 distinct keywords?"
   ]
  },
  {
   "cell_type": "code",
   "execution_count": null,
   "id": "d38a9655",
   "metadata": {},
   "outputs": [],
   "source": [
    "keyword_frequency = pd.DataFrame({\"keyword\": keywords, \"frequency\": keyword_df[keywords].sum()}).reset_index(drop=True)\n",
    "keyword_frequency = keyword_frequency.sort_values(by=\"frequency\", ascending=False)\n",
    "keyword_frequency"
   ]
  },
  {
   "cell_type": "code",
   "execution_count": null,
   "id": "7242ef55",
   "metadata": {},
   "outputs": [],
   "source": [
    "keyword_frequency_4_matches = pd.DataFrame({\"keyword\": keywords, \"frequency\": keyword_df.loc[keyword_df.n_matches > 3][keywords].sum(axis=0)}).reset_index(drop=True)\n",
    "keyword_frequency_4_matches = keyword_frequency_4_matches.sort_values(by=\"frequency\", ascending=False)\n",
    "keyword_frequency_4_matches"
   ]
  },
  {
   "cell_type": "code",
   "execution_count": null,
   "id": "f62f2281",
   "metadata": {},
   "outputs": [],
   "source": [
    "keyword_factor = keyword_frequency_4_matches.copy()\n",
    "keyword_factor = keyword_factor.rename(columns={\"frequency\": \"frequency_4_matches\"})\n",
    "keyword_factor = pd.merge(keyword_factor, keyword_frequency, on=\"keyword\")\n",
    "keyword_factor.frequency_4_matches = keyword_factor.frequency_4_matches.astype(float)\n",
    "keyword_factor.frequency = keyword_factor.frequency.astype(float)\n",
    "\n",
    "# calculate the ratio of the frequency of keywords in messages with 3 or more keywords vs all messages\n",
    "keyword_factor[\"ratio\"] = round(keyword_factor.frequency_4_matches / keyword_factor.frequency, 2)\n",
    "keyword_factor.sort_values(\"ratio\", ascending=False)"
   ]
  },
  {
   "cell_type": "markdown",
   "id": "878aa0ec-6ec1-472f-a288-c05b7b01a14e",
   "metadata": {},
   "source": [
    "# Anonymize messages\n",
    "Before we process the messages using OpenAI's GPT API, we anonymize the messages by deleting all names."
   ]
  },
  {
   "cell_type": "code",
   "execution_count": null,
   "id": "2a0c639a-8410-4e05-b5d5-03f7d981879f",
   "metadata": {},
   "outputs": [],
   "source": [
    "keyword_df_4_or_more_matches = keyword_df.loc[keyword_df.n_matches > 3].reset_index(drop=True)"
   ]
  },
  {
   "cell_type": "code",
   "execution_count": null,
   "id": "a9f580ff",
   "metadata": {},
   "outputs": [],
   "source": [
    "import spacy\n",
    "nlp = spacy.load(\"de_core_news_lg\")\n",
    "#import de_dep_news_trf\n",
    "#nlp = de_dep_news_trf.load()\n",
    "\n",
    "keywords_lower = [x.lower() for x in keywords]\n",
    "\n",
    "def remove_names(text):\n",
    "    # Process the text through the spaCy NLP pipeline\n",
    "    doc = nlp(text)\n",
    "    # Iterate over the detected entities\n",
    "    for ent in doc.ents:\n",
    "        # Check if the entity is a person's name\n",
    "        if ent.label_ == \"PER\":\n",
    "            if any(keyword in ent.text.lower().strip() for keyword in keywords_lower):\n",
    "                print(f\"NOT replaced: {ent.text}\")\n",
    "                continue\n",
    "            # Replace the person's name with an empty string\n",
    "            text = text.replace(ent.text, 'NAME ENTITY')\n",
    "            print(f\"Succesfully replaced: {ent.text}\")\n",
    "    return text"
   ]
  },
  {
   "cell_type": "code",
   "execution_count": null,
   "id": "63ec917d-ef7f-4719-8f9d-a27363caa3a0",
   "metadata": {},
   "outputs": [],
   "source": [
    "keyword_df_4_or_more_matches[\"message_anonymized\"] = keyword_df_4_or_more_matches.message.map(remove_names)"
   ]
  },
  {
   "cell_type": "code",
   "execution_count": null,
   "id": "934428d2-d6e7-49f1-b619-5451f6548d12",
   "metadata": {},
   "outputs": [],
   "source": [
    "keyword_df_4_or_more_matches"
   ]
  },
  {
   "cell_type": "markdown",
   "id": "668d5e1c-f351-4ccd-9db2-3218adcd9363",
   "metadata": {},
   "source": [
    "## OpenAI for measure classification\n",
    "The following code will be used to classify the messages content into \"relaxation\", \"tightening\" or \"unclear\"."
   ]
  },
  {
   "cell_type": "code",
   "execution_count": null,
   "id": "695afebe-2f6b-448e-b528-1745250d9e6b",
   "metadata": {},
   "outputs": [],
   "source": [
    "from openai import OpenAI\n",
    "from os import getenv\n",
    "import json\n",
    "\n",
    "client = OpenAI(api_key=getenv(\"OPENAI_API_KEY\"))\n",
    "# Helper function to send messages to OpenAI API (ChatGPT model)\n",
    "def get_completion(prompt, model=\"gpt-3.5-turbo\"):\n",
    "    messages = [{\"role\": \"user\", \"content\": prompt}]\n",
    "    response = client.chat.completions.create(\n",
    "        messages=messages,\n",
    "        model=\"gpt-3.5-turbo\",\n",
    "        temperature=0, # this is the degree of randomness of the model's output\n",
    "    )\n",
    "    return response.choices[0].message.content.replace('```', '')"
   ]
  },
  {
   "cell_type": "code",
   "execution_count": null,
   "id": "be33645a-1ff7-43f5-8a95-57149e561838",
   "metadata": {},
   "outputs": [],
   "source": [
    "prompt_few_shot = (\n",
    "    'I will give you a text that stems from the intranet of a hospital. '\n",
    "    'The text may contain information on changes in certain measures regarding the antiinfectious management to prevent the spread of respiratory infections in the hospital. '\n",
    "    'Your task is to identify whether the text states that the measures are being significantly tightened or relaxed, or if there are no changes described and the existing measures are being reminded of. '\n",
    "    'Please return the answer as a JSON object in the following format: {{\"classification\": <label>}} without any explanations. '\n",
    "    'The valid options for the label are: \"tightened\", \"relaxed\", \"unclear\".\\n\\n'\n",
    "    'Here are some examples:\\n\\n'\n",
    "    'Input: ```… Die Geschäftsführung und Klinikumsleitung haben folgende Anpassungen der Corona-Verfahrensanweisungen für Mitarbeitenden und Patienten für das Klinikum EvB, Campus Potsdam vorgenommen. Damit fallen auch die letzten Testregelungen für die Patient*innen. Die wichtigsten Änderungen, die ab dem 1. Mai gelten, finden Sie hier im Überblick: • Testungen von Patient*innen entfallen ab dem 1.5.2023:- keine Routine-Testungen mehr bei der Aufnahme- keine Testung mehr bei Notfallpatienten - kein Verlaufsscreening mehr • Testungen erfolgen jedoch weiterhin bei Verdacht nach klinischer Maßgabe.``` Output: ```{{\"classification\": \"relaxed\"}}```\\n\\n'\n",
    "    'Input: ```Aufgrund der aktuellen Situation in der Ukraine ist die Lage im Cyberraum angespannt. Die Ukraine ist seit mehreren Jahren Opfer regelmäßiger Cyberangriffe und die Aktivitäten haben sich seit Anfang des Kriegsgeschehens im Februar intensiviert, da die militärischen Operationen weiterhin durch Maßnahmen im Cyberraum begleitet werden. Obwohl noch kein besonderer Anstieg von Cyberangriffe in Deutschland zu verzeichnen ist, erwarten IT-Sicherheitsexperten in Europa, dass vor allem Institutionen, die die Ukraine unterstützen, Opfer von Cyberangriffen werden. Das gilt insbesondere für Unternehmen der kritischen Infrastruktur wie Energie, Wasser, Telekommunikation, Banken, Krankenhäuser, Logistik, etc. Daher implementiert auch die  neue IT-Sicherheitsmaßnahmen, um das Risiko direkter Angriffe aus Russland und Belarus zu minimieren. Viele der Maßnahmen werden Sie im Rahmen Ihrer täglichen Arbeit nicht bemerken.Eine Maßnahme ist jedoch das Sperren aller Webseiten, die in Russland und Belarus gehostet sind. Bitte bedenken Sie dies beim Aufruf von Webseiten. Die erhöhte Bedrohungslage für Deutschland im Zusammenhang mit dem Krieg gegen die Ukraine wird für die nächsten Monaten bestehen bleiben. Deswegen ist es besonders wichtig, dass Sie:- die zwei Pflichtschulungen zum Thema IT-Sicherheit und Phishing-Mails im E-Learning-System jetzt absolvieren, wenn Sie es noch nicht gemacht haben- weiterhin Phishing-Mails melden- vermeiden, nicht vertrauenswürdige Webseiten zu besuchen- dem Helpdesk Störungen melden Mit freundlichen Grüßen  (ISB).``` Output: ```{{\"classification\": \"unclear\"}}```\\n\\n'\n",
    "    'Input: ```• Aufhebung der Maskenpflicht für Besuchende im Klinikum • Aufhebung der Maskenpflicht für Patient*innen der ambulanten Praxen (Poliklinik)• KEvB hält an Tests von stationären Patient*innen während des Klinikaufenthaltes fest Zum Karfreitag, 7. April 2023 endet das bundesweit geltende Infektionsschutzgesetz § 28 „Besondere Schutzmaßnahmen zur Verhinderung der Verbreitung der Coronavirus-Krankheit-2019“ und damit auch die Maskenpflicht in Krankenhäusern und Arztpraxen. Somit gelten im Klinikum Ernst von Bergmann sowie dem Klinikum Westbrandenburg, Standort Potsdam, ab Karfreitag, 7. April keine coronaspezifischen Besuchsregelungen mehr: Besuchsregelung stationäre Patient*innen- Besucher dürfen ohne Maskenpflicht und ohne Testpflicht das Haus betreten.- Besuche von isolationspflichtigen Patient*innen (dazu zählt auch das Sars-CoV-2-Virus), sowie die Begleitung von Patient*innen in der Notaufnahme, sind auch weiterhin nur in besonderen Situationen und Lebenslagen nach Absprache möglich.- Ein Besuchsverbot gilt für Stationen mit aktivem Ausbruchsgeschehen.- Sonderregelungen einzelner Kliniken und Fachbereichen sind individuell über die Homepage der Klinik oder der Station zu erfragen. Ambulante Patient*innen (Poliklinik und ambulante Arztpraxen)- Patient*innen dürfen die Arztpraxen ohne Maskenpflicht und ohne Testpflicht betreten Stationäre Patient*innen- Stationäre Patient*innen werden durch das KEvB bei Aufnahme auf Sars-CoV-2 getestet. Testungen im Verlauf erfolgen bei klinischer Symptomatik und Langliegern. Diese Maßnahme wird regelmäßig klinikintern neu bewertet.- Personen, die auf der Geburtsstation als Begleitung im Familienzimmer mit aufgenommen werden, werden ebenfalls bei Aufnahme auf Sars-CoV-2 getestet. Alle Informationen finden Sie ebenfalls über: www.evb-gesundheit.de/klinikumevb/besuch/corona-besuchsregeln``` Output: ```{{\"classification\": \"relaxed\"}}```\\n\\n'\n",
    "    'Input: ```Der Krisenstab hat in seiner Sitzung am Freitag Anpassungen im Pandemie-Management im Hinblick auf Omikron beschlossen. Hier finden Sie einen Überblick über die ab Donnerstag, 13.01.2022 geltenden Regelungen und Hinweise zum Hygiene- und Abstrichregelungen sowie Quarantäne und Isolationszeiten. 1. Mitarbeitenden-Schutz – VA Mitarbeitermanagement (url:consense://ConSense_Produktiv/D25135600): - Die Testfrequenz für immunisierte Mitarbeitende ist auf 3x/wöchentliche Antigentests erhöht worden. Weiterhin besteht die Möglichkeit, einen verpflichtenden Antigentest durch einen PCR-Test in der zentralen Abstrichstelle (Haus V) zu ersetzen. - FFP2-Maske ist durchgängig am Arbeitsplatz (Arztbüros, Pflegestützpunkte, Büros, Besprechungen, Dokumentation) zu tragen, insbesondere wenn mehre Personen im Raum sind bzw. in dem Raum zusammenkommen. - Führen Sie möglichst alle Meetings, Jour Fixe oder interne Weiterbildungen digital durch. - Sollten Sie dazu noch Webex-Zugangsdaten benötigen, stellen Sie einen Antrag über das Antragsportal (http://prdweb01.kevb.lan/prod). - Führen Sie Präsenzmeetings nur als Ausnahme mit möglichst geringer Teilnehmerzahl durch. - Durchgängiges Tragen der FFP2-Maske bei allen Präsenzveranstaltungen im Klinikum - FFP2-Maske ist von allen Teilnehmenden und Dozenten/Trainern durchgängig zu tragen. - Auch am Sitzplatz oder bei Veranstaltungen nach dem 2G-Plus-Modell sind die FFP2-Masken durchgängig zu tragen - Anpassung der Isolations- und Quarantänebestimmungen: - Die neusten Entscheidungen von Bund und Ländern zu den neuen Quarantäneregeln müssen durch den Bundestag und Bundesrat noch beschlossen und dann durch das Land Brandenburg in für uns geltende Regelungen übertragen werden. Im Vorfeld wurden bereits die Eckpunkte der neuen Regelungen mit dem Gesundheitsamt Potsdam abgestimmt und in die VA eingebracht:``` Output: ```{{\"classification\": \"tightened\"}}```\\n\\n'\n",
    "    'Input: ```{}``` Output: '\n",
    ")"
   ]
  },
  {
   "cell_type": "code",
   "execution_count": null,
   "id": "7de3a7b4-1258-4896-8a78-8c31c3ab50fc",
   "metadata": {},
   "outputs": [],
   "source": [
    "classification_df = keyword_df_4_or_more_matches.copy()\n",
    "#pd.DataFrame(columns=[\"message_anonymized\", \"classification\"])\n",
    "for i, message in enumerate(keyword_df_4_or_more_matches[\"message_anonymized\"]):\n",
    "    completion = get_completion(prompt_few_shot.format(message))\n",
    "    jsoned = json.loads(completion)\n",
    "    classification_df.loc[i, \"classification\"] = jsoned[\"classification\"]\n",
    "    classification_df.loc[i, \"gpt35_response\"] = completion"
   ]
  },
  {
   "cell_type": "markdown",
   "id": "bcdb521a-5e78-4a0e-8ca8-a421b7257d63",
   "metadata": {},
   "source": [
    "When trying out GPT-4 we got some results where the classification was \"none\" due to some internal error of the GPT. After manually reviewing cases where the classification was \"none\", we came to the conclusion to set these cases to \"unclear\" as they were all messages containing reminders of already existing rules, without any changes in the measures themselves.\n",
    "However, in the end we used GPT3.5-Turbo where we did not encounter these errors."
   ]
  },
  {
   "cell_type": "code",
   "execution_count": null,
   "id": "603350ff-2461-4483-82e9-22bd253ff8d8",
   "metadata": {},
   "outputs": [],
   "source": [
    "classification_df.loc[classification_df.classification == \"none\", \"classification\"] = \"unclear\" \n",
    "classification_df.groupby(\"classification\").size()"
   ]
  },
  {
   "cell_type": "code",
   "execution_count": null,
   "id": "c2d425f2-c742-4921-a495-606605ff437c",
   "metadata": {},
   "outputs": [],
   "source": [
    "classification_df.to_csv(\"data/corona_measures_classification_gpt35.tsv\", encoding=\"utf-8\", sep=\"\\t\", index=False)"
   ]
  }
 ],
 "metadata": {
  "kernelspec": {
   "display_name": "Python 3 (ipykernel)",
   "language": "python",
   "name": "python3"
  },
  "language_info": {
   "codemirror_mode": {
    "name": "ipython",
    "version": 3
   },
   "file_extension": ".py",
   "mimetype": "text/x-python",
   "name": "python",
   "nbconvert_exporter": "python",
   "pygments_lexer": "ipython3",
   "version": "3.9.18"
  }
 },
 "nbformat": 4,
 "nbformat_minor": 5
}
