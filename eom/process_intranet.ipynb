{
 "cells": [
  {
   "cell_type": "markdown",
   "id": "04ef6872-3296-42b2-9b88-f5ba2fe4a9be",
   "metadata": {},
   "source": [
    "# EvB Intranet processing pipeline\n",
    "This notebook contains all of the code needed to parse the intranet, extract messages related to measures against the spread of respiratory tract infections and finally classify them into the categories \"tightening\", \"relaxation\" or \"unclear\". "
   ]
  },
  {
   "cell_type": "code",
   "execution_count": null,
   "id": "d2118346-7ded-4a39-be1a-c808b7979c85",
   "metadata": {},
   "outputs": [],
   "source": [
    "from bs4 import BeautifulSoup\n",
    "import re\n",
    "import pandas as pd\n",
    "from numpy import nan"
   ]
  },
  {
   "cell_type": "code",
   "execution_count": null,
   "id": "3a6e7ea8-8154-4c8f-9551-bf0f8e7f69fb",
   "metadata": {},
   "outputs": [],
   "source": [
    "with open(\"data/archiv.html\", \"r\") as f:\n",
    "    html_dump = f.read()\n",
    "soup = BeautifulSoup(html_dump)\n",
    "\n",
    "intranet_df = pd.DataFrame(columns=[\"date\", \"title\", \"message\"])\n",
    "\n",
    "# find all elemtents with the class csc-default\n",
    "for element in soup.find_all(class_='csc-default'):\n",
    "    try:\n",
    "        # extract the header from the element\n",
    "        title = element.find('h1').text\n",
    "        try:\n",
    "            date, title = title.split(\"_\", 1)\n",
    "        except ValueError:\n",
    "            date = None\n",
    "        # concatenate all paragraphs\n",
    "        message = \" \".join([p.text for p in element.find_all('p')])\n",
    "        message = re.sub(r'\\s+', ' ', message).strip()\n",
    "        intranet_df.loc[len(intranet_df)] = [date, title, message]\n",
    "    except AttributeError:\n",
    "        continue\n",
    "display(intranet_df.head(25))"
   ]
  },
  {
   "cell_type": "code",
   "execution_count": null,
   "id": "31132f97-041a-4f03-a822-d7285ea0456c",
   "metadata": {},
   "outputs": [],
   "source": [
    "# sometimes the date can be found in the title\n",
    "intranet_df.loc[pd.isna(intranet_df.date), \"date\"] = intranet_df.loc[pd.isna(intranet_df.date), \"title\"].str.extract(\"^\\w?(\\d{2}\\.\\d{2}\\.)\", expand=False)\n",
    "intranet_df.head(10)"
   ]
  },
  {
   "cell_type": "code",
   "execution_count": null,
   "id": "637cd218-f4b4-4e53-bcf7-68d767bfddbe",
   "metadata": {},
   "outputs": [],
   "source": [
    "# add point after month (is missing in some cases)\n",
    "point_column = pd.DataFrame([\".\" for i in range(len(intranet_df))], columns=[\"a\"])\n",
    "intranet_df[\"date\"] = intranet_df.date.str.extract(\"^\\w?(\\d{2}\\.\\d{2})\", expand=False).str.cat(point_column)\n",
    "intranet_df.head(10)"
   ]
  },
  {
   "cell_type": "code",
   "execution_count": null,
   "id": "fc2afb1e-dd4e-43c0-b3d4-5f12c493524b",
   "metadata": {},
   "outputs": [],
   "source": [
    "temp_df = pd.DataFrame(columns=[\"date\", \"year\"])\n",
    "temp_df[\"date\"] = intranet_df.date\n",
    "\n",
    "year = 2024\n",
    "precursor_month = 13\n",
    "temp_df.loc[0, \"year\"] = 2024\n",
    "for i in range(1, len(intranet_df)-1):\n",
    "    if not pd.isna(intranet_df.loc[i, \"date\"]):\n",
    "        try:\n",
    "            precursor_month = intranet_df.loc[i-1, \"date\"].split(\".\")[1]\n",
    "            precursor_month = int(precursor_month)\n",
    "            precursor_year_available = pd.isna(temp_df.loc[i-1, \"year\"]) == False\n",
    "        except AttributeError:\n",
    "            try:\n",
    "                precursor_month = intranet_df.loc[i-2, \"date\"].split(\".\")[1]\n",
    "                precursor_month = int(precursor_month)\n",
    "                precursor_year_available = pd.isna(temp_df.loc[i-2, \"year\"]) == False\n",
    "            except AttributeError:\n",
    "                precursor_month = None\n",
    "                precursor_year_available = False\n",
    "        try:\n",
    "            successor_month = intranet_df.loc[i+1, \"date\"].split(\".\")[1]\n",
    "            successor_month = int(successor_month)\n",
    "        except AttributeError:\n",
    "            try:\n",
    "                successor_month = intranet_df.loc[i+2, \"date\"].split(\".\")[1]\n",
    "                successor_month = int(successor_month)\n",
    "            except AttributeError:\n",
    "                successor_month = None\n",
    "            \n",
    "        month = intranet_df.loc[i, \"date\"].split(\".\")[1]\n",
    "        month = int(month)\n",
    "\n",
    "        if precursor_month:\n",
    "            if month > precursor_month:\n",
    "                if successor_month:\n",
    "                    if month == successor_month and precursor_year_available:\n",
    "                        year -= 1\n",
    "                else:\n",
    "                     print(\"problem with row\", i, \" month > precursor but no successor available\")\n",
    "                     continue\n",
    "            else:\n",
    "                # sometimes the date is not correct\n",
    "                if successor_month:\n",
    "                    if successor_month == precursor_month and month != precursor_month:\n",
    "                        continue\n",
    "            \n",
    "        temp_df.loc[i, \"year\"] = year\n",
    "\n",
    "# the last entry is from 2020 but has no successor\n",
    "temp_df.loc[len(intranet_df) - 1, \"year\"] = 2020"
   ]
  },
  {
   "cell_type": "code",
   "execution_count": null,
   "id": "4100a4b6-1aa5-4dd1-a31b-34016a829e2a",
   "metadata": {},
   "outputs": [],
   "source": [
    "temp_df[\"concat_date\"] = temp_df.date.str.cat(temp_df.year.astype(str))\n",
    "temp_df.loc[pd.isna(temp_df.year), \"concat_date\"] = nan\n",
    "temp_df.loc[~pd.isna(temp_df.year), \"timestamp\"] = pd.to_datetime(temp_df.loc[~pd.isna(temp_df.year), \"concat_date\"], format=\"%d.%m.%Y\")\n",
    "display(temp_df.head())\n",
    "temp_df.concat_date.isna().sum()"
   ]
  },
  {
   "cell_type": "code",
   "execution_count": null,
   "id": "46abf741-f73a-486f-b168-12e22675f5d3",
   "metadata": {},
   "outputs": [],
   "source": [
    "# iterate through the records with missing timestamp and impute it by taking the mean of the successor and the precursor\n",
    "for i, row in temp_df.loc[pd.isna(temp_df.year)].iterrows():\n",
    "    try:\n",
    "        temp_df.loc[i, \"timestamp\"] = temp_df.loc[[i-1, i+1], \"timestamp\"].mean()\n",
    "    except KeyError:\n",
    "        pass"
   ]
  },
  {
   "cell_type": "code",
   "execution_count": null,
   "id": "340e777e-6020-48e0-a02e-b6a8e9382877",
   "metadata": {},
   "outputs": [],
   "source": [
    "len(temp_df) == len(intranet_df)"
   ]
  },
  {
   "cell_type": "code",
   "execution_count": null,
   "id": "19e4b595-a123-4e18-8529-a15f72a3b6bd",
   "metadata": {},
   "outputs": [],
   "source": [
    "intranet_df[\"timestamp\"] = temp_df[\"timestamp\"].dt.date\n",
    "intranet_df[\"timestamp_imputed\"] = pd.isna(temp_df[\"concat_date\"])"
   ]
  },
  {
   "cell_type": "code",
   "execution_count": null,
   "id": "3fa07944-0a88-4244-9795-303927569345",
   "metadata": {},
   "outputs": [],
   "source": [
    "intranet_df.tail(20)"
   ]
  },
  {
   "cell_type": "code",
   "execution_count": null,
   "id": "9834db8a-e8d6-4e51-978c-5e51fd9d3e26",
   "metadata": {},
   "outputs": [],
   "source": [
    "intranet_df.to_csv(\"data/intranet_data.tsv\", index=False, encoding=\"utf-8\", sep=\"\\t\")"
   ]
  },
  {
   "cell_type": "markdown",
   "id": "b4eb83a7-c354-463b-9b52-16d5fd79d7cb",
   "metadata": {},
   "source": [
    "## Identifying and classifying messages\n",
    "In the following code, we will identify messages that are related to anti-infectious measures and classify them, whether they describe a tightening or relaxation of measures."
   ]
  },
  {
   "cell_type": "code",
   "execution_count": null,
   "id": "9d4c22c3",
   "metadata": {},
   "outputs": [],
   "source": [
    "# intranet_df = pd.read_csv(\"data/intranet_data.tsv\", encoding=\"utf-8\", sep=\"\\t\")"
   ]
  },
  {
   "cell_type": "markdown",
   "id": "20e383d7-b2f6-43a4-a508-cc2bbed945fd",
   "metadata": {},
   "source": [
    "### Matching of keywords\n",
    "First we define a list of keywords and then match the keywords in the messages."
   ]
  },
  {
   "cell_type": "code",
   "execution_count": null,
   "id": "c6103014",
   "metadata": {},
   "outputs": [],
   "source": [
    "keyword_df = intranet_df.copy()\n",
    "keywords = [\"Maske\", \"Mundnasenschutz\", \"FFP2\", \"Beschränkung\", \"Verbot\", \"Besuch\", \"Corona\", \"Covid\", \"Infektion\", \"Maßnahme\", \"Pflicht\", \"Gebot\", \"Hygiene\", \"Abstand\"]\n",
    "for keyword in keywords:\n",
    "    keyword_df[keyword] = keyword_df.message.str.lower().str.contains(keyword.lower())\n",
    "\n",
    "# n_matches refers to the number of matched keywords per message\n",
    "keyword_df[\"n_matches\"] = keyword_df[keywords].sum(axis=1)"
   ]
  },
  {
   "cell_type": "code",
   "execution_count": null,
   "id": "643dd9da",
   "metadata": {},
   "outputs": [],
   "source": [
    "# calculate cumulative sum of counts\n",
    "keyword_count = keyword_df.groupby(\"n_matches\").size().reset_index(name=\"count\")\n",
    "keyword_count = keyword_count.sort_values(\"n_matches\", ascending=False)\n",
    "keyword_count[\"cumulative_sum\"] = keyword_count[\"count\"].cumsum()\n",
    "keyword_count"
   ]
  },
  {
   "cell_type": "code",
   "execution_count": null,
   "id": "d803b14c",
   "metadata": {},
   "outputs": [],
   "source": [
    "import matplotlib.pyplot as plt\n",
    "plt.plot(\n",
    "    \"n_matches\",\n",
    "    \"cumulative_sum\",\n",
    "    data=keyword_count.loc[keyword_count.n_matches > 0],\n",
    ")\n",
    "plt.xlabel(\"≥ n distinct keywords in a message\")\n",
    "plt.ylabel(\"Number of messages\")\n",
    "plt.title(\"Number of messages vs. Distinct keywords per message\")"
   ]
  },
  {
   "cell_type": "markdown",
   "id": "614a478c",
   "metadata": {},
   "source": [
    "Setting the threshold of required keywords in a message to ≥ 4 seems reasonable."
   ]
  },
  {
   "cell_type": "markdown",
   "id": "7ff121cb-7d06-473c-bf19-982b94c769e6",
   "metadata": {},
   "source": [
    "## Calculating the ratio of keywords in the filtered messages\n",
    "Which of the keywords occur more often in the messages with more than 3 distinct keywords?"
   ]
  },
  {
   "cell_type": "code",
   "execution_count": null,
   "id": "d38a9655",
   "metadata": {},
   "outputs": [],
   "source": [
    "keyword_frequency = pd.DataFrame({\n",
    "    \"keyword\": keywords,\n",
    "    \"frequency\": keyword_df[keywords].sum(),\n",
    "    \"frequency_4_matches_messages\": keyword_df.loc[keyword_df.n_matches > 3][keywords].reset_index(drop=True).sum()\n",
    "    }).reset_index(drop=True)\n",
    "\n",
    "# calculate the ratio of the frequency of keywords in messages with 4 or more keywords vs all messages\n",
    "keyword_frequency[\"factor\"] = round(keyword_frequency.frequency_4_matches_messages / keyword_frequency.frequency, 2)\n",
    "keyword_frequency = keyword_frequency.sort_values(by=\"frequency\", ascending=False)\n",
    "keyword_frequency"
   ]
  },
  {
   "cell_type": "markdown",
   "id": "878aa0ec-6ec1-472f-a288-c05b7b01a14e",
   "metadata": {},
   "source": [
    "# Anonymize messages\n",
    "Before we process the messages using OpenAI's GPT API, we anonymize the messages by deleting all names."
   ]
  },
  {
   "cell_type": "code",
   "execution_count": null,
   "id": "2a0c639a-8410-4e05-b5d5-03f7d981879f",
   "metadata": {},
   "outputs": [],
   "source": [
    "keyword_df_4_or_more_matches = keyword_df.loc[keyword_df.n_matches > 3].reset_index(drop=True)"
   ]
  },
  {
   "cell_type": "code",
   "execution_count": null,
   "id": "a9f580ff",
   "metadata": {},
   "outputs": [],
   "source": [
    "import spacy\n",
    "nlp = spacy.load(\"de_core_news_lg\")\n",
    "\n",
    "keywords_lower = [x.lower() for x in keywords]\n",
    "\n",
    "def remove_names(text):\n",
    "    # Process the text through the spaCy NLP pipeline\n",
    "    doc = nlp(text)\n",
    "    # Iterate over the detected entities\n",
    "    for ent in doc.ents:\n",
    "        # Check if the entity is a person's name\n",
    "        if ent.label_ == \"PER\":\n",
    "            # Check if the entity labeled as a person contains one of the keywords\n",
    "            if any(keyword in ent.text.lower().strip() for keyword in keywords_lower):\n",
    "                print(f\"NOT replaced: {ent.text}\")\n",
    "                continue\n",
    "            # Replace the person's name with an empty string\n",
    "            text = text.replace(ent.text, 'NAME ENTITY')\n",
    "            print(f\"Succesfully replaced: {ent.text}\")\n",
    "    return text"
   ]
  },
  {
   "cell_type": "code",
   "execution_count": null,
   "id": "63ec917d-ef7f-4719-8f9d-a27363caa3a0",
   "metadata": {},
   "outputs": [],
   "source": [
    "keyword_df_4_or_more_matches[\"message_anonymized\"] = keyword_df_4_or_more_matches.message.map(remove_names)"
   ]
  },
  {
   "cell_type": "markdown",
   "id": "668d5e1c-f351-4ccd-9db2-3218adcd9363",
   "metadata": {},
   "source": [
    "## OpenAI for measure classification\n",
    "The following code will be used to classify the messages content into \"relaxation\", \"tightening\" or \"unclear\"."
   ]
  },
  {
   "cell_type": "code",
   "execution_count": null,
   "id": "695afebe-2f6b-448e-b528-1745250d9e6b",
   "metadata": {},
   "outputs": [],
   "source": [
    "from openai import OpenAI\n",
    "from os import getenv\n",
    "import json\n",
    "\n",
    "client = OpenAI(api_key=getenv(\"OPENAI_API_KEY\"))\n",
    "# Helper function to send messages to OpenAI API (ChatGPT model)\n",
    "def get_completion(prompt, model=\"gpt-3.5-turbo\"):\n",
    "    messages = [{\"role\": \"user\", \"content\": prompt}]\n",
    "    response = client.chat.completions.create(\n",
    "        messages=messages,\n",
    "        model=\"gpt-3.5-turbo\",\n",
    "        temperature=0, # this is the degree of randomness of the model's output\n",
    "    )\n",
    "    return response.choices[0].message.content.replace('```', '')"
   ]
  },
  {
   "cell_type": "code",
   "execution_count": null,
   "id": "be33645a-1ff7-43f5-8a95-57149e561838",
   "metadata": {},
   "outputs": [],
   "source": [
    "prompt_few_shot = (\n",
    "    'I will give you a text that stems from the intranet of a hospital. '\n",
    "    'The text may contain information on changes in certain measures regarding the antiinfectious management to prevent the spread of respiratory infections in the hospital. '\n",
    "    'Your task is to identify whether the text states that the measures are being significantly tightened or relaxed, or if there are no changes described and the existing measures are being reminded of. '\n",
    "    'Please return the answer as a JSON object in the following format: {{\"classification\": <label>}} without any explanations. '\n",
    "    'The valid options for the label are: \"tightened\", \"relaxed\", \"unclear\".\\n\\n'\n",
    "    'Here are some examples:\\n\\n'\n",
    "    'Input: ```… Die Geschäftsführung und Klinikumsleitung haben folgende Anpassungen der Corona-Verfahrensanweisungen für Mitarbeitenden und Patienten für das Klinikum EvB, Campus Potsdam vorgenommen. Damit fallen auch die letzten Testregelungen für die Patient*innen. Die wichtigsten Änderungen, die ab dem 1. Mai gelten, finden Sie hier im Überblick: • Testungen von Patient*innen entfallen ab dem 1.5.2023:- keine Routine-Testungen mehr bei der Aufnahme- keine Testung mehr bei Notfallpatienten - kein Verlaufsscreening mehr • Testungen erfolgen jedoch weiterhin bei Verdacht nach klinischer Maßgabe.``` Output: ```{{\"classification\": \"relaxed\"}}```\\n\\n'\n",
    "    'Input: ```Aufgrund der aktuellen Situation in der Ukraine ist die Lage im Cyberraum angespannt. Die Ukraine ist seit mehreren Jahren Opfer regelmäßiger Cyberangriffe und die Aktivitäten haben sich seit Anfang des Kriegsgeschehens im Februar intensiviert, da die militärischen Operationen weiterhin durch Maßnahmen im Cyberraum begleitet werden. Obwohl noch kein besonderer Anstieg von Cyberangriffe in Deutschland zu verzeichnen ist, erwarten IT-Sicherheitsexperten in Europa, dass vor allem Institutionen, die die Ukraine unterstützen, Opfer von Cyberangriffen werden. Das gilt insbesondere für Unternehmen der kritischen Infrastruktur wie Energie, Wasser, Telekommunikation, Banken, Krankenhäuser, Logistik, etc. Daher implementiert auch die  neue IT-Sicherheitsmaßnahmen, um das Risiko direkter Angriffe aus Russland und Belarus zu minimieren. Viele der Maßnahmen werden Sie im Rahmen Ihrer täglichen Arbeit nicht bemerken.Eine Maßnahme ist jedoch das Sperren aller Webseiten, die in Russland und Belarus gehostet sind. Bitte bedenken Sie dies beim Aufruf von Webseiten. Die erhöhte Bedrohungslage für Deutschland im Zusammenhang mit dem Krieg gegen die Ukraine wird für die nächsten Monaten bestehen bleiben. Deswegen ist es besonders wichtig, dass Sie:- die zwei Pflichtschulungen zum Thema IT-Sicherheit und Phishing-Mails im E-Learning-System jetzt absolvieren, wenn Sie es noch nicht gemacht haben- weiterhin Phishing-Mails melden- vermeiden, nicht vertrauenswürdige Webseiten zu besuchen- dem Helpdesk Störungen melden Mit freundlichen Grüßen  (ISB).``` Output: ```{{\"classification\": \"unclear\"}}```\\n\\n'\n",
    "    'Input: ```• Aufhebung der Maskenpflicht für Besuchende im Klinikum • Aufhebung der Maskenpflicht für Patient*innen der ambulanten Praxen (Poliklinik)• KEvB hält an Tests von stationären Patient*innen während des Klinikaufenthaltes fest Zum Karfreitag, 7. April 2023 endet das bundesweit geltende Infektionsschutzgesetz § 28 „Besondere Schutzmaßnahmen zur Verhinderung der Verbreitung der Coronavirus-Krankheit-2019“ und damit auch die Maskenpflicht in Krankenhäusern und Arztpraxen. Somit gelten im Klinikum Ernst von Bergmann sowie dem Klinikum Westbrandenburg, Standort Potsdam, ab Karfreitag, 7. April keine coronaspezifischen Besuchsregelungen mehr: Besuchsregelung stationäre Patient*innen- Besucher dürfen ohne Maskenpflicht und ohne Testpflicht das Haus betreten.- Besuche von isolationspflichtigen Patient*innen (dazu zählt auch das Sars-CoV-2-Virus), sowie die Begleitung von Patient*innen in der Notaufnahme, sind auch weiterhin nur in besonderen Situationen und Lebenslagen nach Absprache möglich.- Ein Besuchsverbot gilt für Stationen mit aktivem Ausbruchsgeschehen.- Sonderregelungen einzelner Kliniken und Fachbereichen sind individuell über die Homepage der Klinik oder der Station zu erfragen. Ambulante Patient*innen (Poliklinik und ambulante Arztpraxen)- Patient*innen dürfen die Arztpraxen ohne Maskenpflicht und ohne Testpflicht betreten Stationäre Patient*innen- Stationäre Patient*innen werden durch das KEvB bei Aufnahme auf Sars-CoV-2 getestet. Testungen im Verlauf erfolgen bei klinischer Symptomatik und Langliegern. Diese Maßnahme wird regelmäßig klinikintern neu bewertet.- Personen, die auf der Geburtsstation als Begleitung im Familienzimmer mit aufgenommen werden, werden ebenfalls bei Aufnahme auf Sars-CoV-2 getestet. Alle Informationen finden Sie ebenfalls über: www.evb-gesundheit.de/klinikumevb/besuch/corona-besuchsregeln``` Output: ```{{\"classification\": \"relaxed\"}}```\\n\\n'\n",
    "    'Input: ```Der Krisenstab hat in seiner Sitzung am Freitag Anpassungen im Pandemie-Management im Hinblick auf Omikron beschlossen. Hier finden Sie einen Überblick über die ab Donnerstag, 13.01.2022 geltenden Regelungen und Hinweise zum Hygiene- und Abstrichregelungen sowie Quarantäne und Isolationszeiten. 1. Mitarbeitenden-Schutz – VA Mitarbeitermanagement (url:consense://ConSense_Produktiv/D25135600): - Die Testfrequenz für immunisierte Mitarbeitende ist auf 3x/wöchentliche Antigentests erhöht worden. Weiterhin besteht die Möglichkeit, einen verpflichtenden Antigentest durch einen PCR-Test in der zentralen Abstrichstelle (Haus V) zu ersetzen. - FFP2-Maske ist durchgängig am Arbeitsplatz (Arztbüros, Pflegestützpunkte, Büros, Besprechungen, Dokumentation) zu tragen, insbesondere wenn mehre Personen im Raum sind bzw. in dem Raum zusammenkommen. - Führen Sie möglichst alle Meetings, Jour Fixe oder interne Weiterbildungen digital durch. - Sollten Sie dazu noch Webex-Zugangsdaten benötigen, stellen Sie einen Antrag über das Antragsportal (http://prdweb01.kevb.lan/prod). - Führen Sie Präsenzmeetings nur als Ausnahme mit möglichst geringer Teilnehmerzahl durch. - Durchgängiges Tragen der FFP2-Maske bei allen Präsenzveranstaltungen im Klinikum - FFP2-Maske ist von allen Teilnehmenden und Dozenten/Trainern durchgängig zu tragen. - Auch am Sitzplatz oder bei Veranstaltungen nach dem 2G-Plus-Modell sind die FFP2-Masken durchgängig zu tragen - Anpassung der Isolations- und Quarantänebestimmungen: - Die neusten Entscheidungen von Bund und Ländern zu den neuen Quarantäneregeln müssen durch den Bundestag und Bundesrat noch beschlossen und dann durch das Land Brandenburg in für uns geltende Regelungen übertragen werden. Im Vorfeld wurden bereits die Eckpunkte der neuen Regelungen mit dem Gesundheitsamt Potsdam abgestimmt und in die VA eingebracht:``` Output: ```{{\"classification\": \"tightened\"}}```\\n\\n'\n",
    "    'Input: ```{}``` Output: '\n",
    ")"
   ]
  },
  {
   "cell_type": "code",
   "execution_count": null,
   "id": "7de3a7b4-1258-4896-8a78-8c31c3ab50fc",
   "metadata": {},
   "outputs": [],
   "source": [
    "classification_df = keyword_df_4_or_more_matches.copy()\n",
    "#pd.DataFrame(columns=[\"message_anonymized\", \"classification\"])\n",
    "for i, message in enumerate(keyword_df_4_or_more_matches[\"message_anonymized\"]):\n",
    "    completion = get_completion(prompt_few_shot.format(message))\n",
    "    jsoned = json.loads(completion)\n",
    "    classification_df.loc[i, \"classification\"] = jsoned[\"classification\"]\n",
    "    classification_df.loc[i, \"gpt35_response\"] = completion"
   ]
  },
  {
   "cell_type": "markdown",
   "id": "bcdb521a-5e78-4a0e-8ca8-a421b7257d63",
   "metadata": {},
   "source": [
    "When trying out GPT-4 we got some results where the classification was \"none\" due to some internal error of the GPT. After manually reviewing cases where the classification was \"none\", we came to the conclusion to set these cases to \"unclear\" as they were all messages containing reminders of already existing rules, without any changes in the measures themselves.\n",
    "However, in the end we used GPT3.5-Turbo where we did not encounter these errors."
   ]
  },
  {
   "cell_type": "code",
   "execution_count": null,
   "id": "603350ff-2461-4483-82e9-22bd253ff8d8",
   "metadata": {},
   "outputs": [],
   "source": [
    "classification_df.loc[classification_df.classification == \"none\", \"classification\"] = \"unclear\" \n",
    "classification_df.groupby(\"classification\").size()"
   ]
  },
  {
   "cell_type": "code",
   "execution_count": null,
   "id": "c2d425f2-c742-4921-a495-606605ff437c",
   "metadata": {},
   "outputs": [],
   "source": [
    "classification_df.to_csv(\"data/corona_measures_classification_gpt35.csv\", encoding=\"utf-8\", sep=\"\\t\", index=False)"
   ]
  }
 ],
 "metadata": {
  "kernelspec": {
   "display_name": "Python 3 (ipykernel)",
   "language": "python",
   "name": "python3"
  },
  "language_info": {
   "codemirror_mode": {
    "name": "ipython",
    "version": 3
   },
   "file_extension": ".py",
   "mimetype": "text/x-python",
   "name": "python",
   "nbconvert_exporter": "python",
   "pygments_lexer": "ipython3",
   "version": "3.9.18"
  }
 },
 "nbformat": 4,
 "nbformat_minor": 5
}
