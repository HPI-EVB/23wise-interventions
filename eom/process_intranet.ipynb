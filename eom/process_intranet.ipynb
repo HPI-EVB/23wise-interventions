{
 "cells": [
  {
   "cell_type": "code",
   "execution_count": null,
   "id": "b2359d04",
   "metadata": {},
   "outputs": [],
   "source": [
    "import pandas as pd"
   ]
  },
  {
   "cell_type": "code",
   "execution_count": null,
   "id": "9d4c22c3",
   "metadata": {},
   "outputs": [],
   "source": [
    "intranet_df = pd.read_csv(\"data/intranet_data.tsv\", encoding=\"utf-8\", sep=\"\\t\")"
   ]
  },
  {
   "cell_type": "code",
   "execution_count": null,
   "id": "c6103014",
   "metadata": {},
   "outputs": [],
   "source": [
    "keyword_df = intranet_df.copy()\n",
    "substrings = [\"Maske\", \"Beschränkungen\", \"Verbot\", \"Besuch\", \"Corona\", \"Covid\", \"Infektion\", \"Maßnahmen\", \"Pflicht\", \"Gebot\", \"Hygiene\", \"Abstand\"]\n",
    "for substring in substrings:\n",
    "    keyword_df[substring] = keyword_df.message.str.lower().str.contains(substring.lower())\n",
    "\n",
    "# n_matches refers to the number of matched keywords per message\n",
    "keyword_df[\"n_matches\"] = keyword_df[substrings].sum(axis=1)"
   ]
  },
  {
   "cell_type": "code",
   "execution_count": null,
   "id": "643dd9da",
   "metadata": {},
   "outputs": [],
   "source": [
    "# calculate cumulative sum of counts\n",
    "keyword_count = keyword_df.groupby(\"n_matches\").size().reset_index(name=\"count\")\n",
    "keyword_count = keyword_count.sort_values(\"n_matches\", ascending=False)\n",
    "keyword_count[\"cumulative_sum\"] = keyword_count[\"count\"].cumsum()\n",
    "keyword_count"
   ]
  },
  {
   "cell_type": "code",
   "execution_count": null,
   "id": "d803b14c",
   "metadata": {},
   "outputs": [],
   "source": [
    "import matplotlib.pyplot as plt\n",
    "plt.plot(\n",
    "    \"n_matches\",\n",
    "    \"cumulative_sum\",\n",
    "    data=keyword_count.loc[keyword_count.n_matches > 0],\n",
    ")\n",
    "plt.xlabel(\"≥ n distinct keywords in a message\")\n",
    "plt.ylabel(\"Number of messages\")\n",
    "plt.title(\"Number of messages vs. Distinct keywords per message\")"
   ]
  },
  {
   "cell_type": "markdown",
   "id": "614a478c",
   "metadata": {},
   "source": [
    "Setting the threshold of required keywords in a message to ≥3 seems reasonable."
   ]
  },
  {
   "cell_type": "code",
   "execution_count": null,
   "id": "d38a9655",
   "metadata": {},
   "outputs": [],
   "source": [
    "keyword_frequency = pd.DataFrame({\"keyword\": substrings, \"frequency\": keyword_df[substrings].sum()}).reset_index(drop=True)\n",
    "keyword_frequency = keyword_frequency.sort_values(by=\"frequency\", ascending=False)\n",
    "keyword_frequency"
   ]
  },
  {
   "cell_type": "code",
   "execution_count": null,
   "id": "7242ef55",
   "metadata": {},
   "outputs": [],
   "source": [
    "keyword_frequency_3_matches = pd.DataFrame({\"keyword\": substrings, \"frequency\": keyword_df.loc[keyword_df.n_matches > 2][substrings].sum(axis=0)}).reset_index(drop=True)\n",
    "keyword_frequency_3_matches = keyword_frequency_3_matches.sort_values(by=\"frequency\", ascending=False)\n",
    "keyword_frequency_3_matches"
   ]
  },
  {
   "cell_type": "code",
   "execution_count": null,
   "id": "f62f2281",
   "metadata": {},
   "outputs": [],
   "source": [
    "keyword_factor = keyword_frequency_3_matches.copy()\n",
    "keyword_factor = keyword_factor.rename(columns={\"frequency\": \"frequency_3_matches\"})\n",
    "keyword_factor = pd.merge(keyword_factor, keyword_frequency, on=\"keyword\")\n",
    "keyword_factor.frequency_3_matches = keyword_factor.frequency_3_matches.astype(float)\n",
    "keyword_factor.frequency = keyword_factor.frequency.astype(float)\n",
    "\n",
    "# calculate the ratio of the frequency of keywords in messages with 3 or more keywords vs all messages\n",
    "keyword_factor[\"ratio\"] = round(keyword_factor.frequency_3_matches / keyword_factor.frequency, 2)\n",
    "keyword_factor"
   ]
  },
  {
   "cell_type": "code",
   "execution_count": null,
   "id": "1c106816",
   "metadata": {},
   "outputs": [],
   "source": [
    "# calculate cumulative sum of counts\n",
    "keyword_count = keyword_df.groupby(\"n_matches\").size().reset_index(name=\"count\")\n",
    "keyword_count = keyword_count.sort_values(\"n_matches\", ascending=False)\n",
    "keyword_count[\"cumulative_sum\"] = keyword_count[\"count\"].cumsum()\n",
    "keyword_count"
   ]
  },
  {
   "cell_type": "code",
   "execution_count": null,
   "id": "8cd4a895",
   "metadata": {},
   "outputs": [],
   "source": [
    "import matplotlib.pyplot as plt\n",
    "plt.plot(\n",
    "    \"n_matches\",\n",
    "    \"cumulative_sum\",\n",
    "    data=keyword_count.loc[keyword_count.n_matches > 0]\n",
    ")"
   ]
  },
  {
   "cell_type": "code",
   "execution_count": null,
   "id": "a9f580ff",
   "metadata": {},
   "outputs": [],
   "source": [
    "import spacy\n",
    "\n",
    "# Load the German language model\n",
    "nlp = spacy.load(\"de_core_news_sm\")\n",
    "\n",
    "def remove_names(text):\n",
    "    # Process the text through the spaCy NLP pipeline\n",
    "    doc = nlp(text)\n",
    "    # Iterate over the detected entities\n",
    "    for ent in doc.ents:\n",
    "        # Check if the entity is a person's name\n",
    "        if ent.label_ == \"PER\" or ent.label_ == \"PERSON\":\n",
    "            # Replace the person's name with an empty string\n",
    "            text = text.replace(ent.text, '')\n",
    "    return text"
   ]
  },
  {
   "cell_type": "code",
   "execution_count": null,
   "id": "af200610",
   "metadata": {},
   "outputs": [],
   "source": [
    "# Example text\n",
    "text = \"Michael und Julia haben heute das Projekt abgeschlossen.\"\n",
    "\n",
    "# Remove names from the text\n",
    "cleaned_text = remove_names(text)\n",
    "\n",
    "print(cleaned_text)"
   ]
  },
  {
   "cell_type": "code",
   "execution_count": null,
   "id": "63ec917d-ef7f-4719-8f9d-a27363caa3a0",
   "metadata": {},
   "outputs": [],
   "source": [
    "keyword_df_3_or_more_matches = keyword_df.loc[keyword_df.n_matches > 2].reset_index()\n",
    "keyword_df_3_or_more_matches[\"message_anonymized\"] = keyword_df_3_or_more_matches.message.map(remove_names)"
   ]
  },
  {
   "cell_type": "code",
   "execution_count": null,
   "id": "934428d2-d6e7-49f1-b619-5451f6548d12",
   "metadata": {},
   "outputs": [],
   "source": [
    "keyword_df_3_or_more_matches"
   ]
  },
  {
   "cell_type": "markdown",
   "id": "668d5e1c-f351-4ccd-9db2-3218adcd9363",
   "metadata": {},
   "source": [
    "## OpenAI for measure classification\n",
    "The following code will be used to classify the messages content into \"relaxation\", \"tightening\" or \"unclear\"."
   ]
  },
  {
   "cell_type": "code",
   "execution_count": null,
   "id": "695afebe-2f6b-448e-b528-1745250d9e6b",
   "metadata": {},
   "outputs": [],
   "source": [
    "from openai import OpenAI\n",
    "from os import getenv\n",
    "import json\n",
    "\n",
    "client = OpenAI(api_key=getenv(\"OPENAI_API_KEY\"))\n",
    "# Helper function to send messages to OpenAI API (ChatGPT model)\n",
    "def get_completion(prompt, model=\"gpt-3.5-turbo\"):\n",
    "    messages = [{\"role\": \"user\", \"content\": prompt}]\n",
    "    response = client.chat.completions.create(\n",
    "        messages=messages,\n",
    "        model=\"gpt-3.5-turbo\",\n",
    "        temperature=0, # this is the degree of randomness of the model's output\n",
    "    )\n",
    "    return response.choices[0].message.content.replace('```', '')"
   ]
  },
  {
   "cell_type": "code",
   "execution_count": null,
   "id": "be33645a-1ff7-43f5-8a95-57149e561838",
   "metadata": {},
   "outputs": [],
   "source": [
    "prompt_few_shot = (\n",
    "    'I will give you a text, which stems from the intranet of a hospital and is most certainly related to antiinfection measures to prevent the spread of airway infections.\\n'\n",
    "    'Your task is to determine whether there is a tightening of the measures, a relaxation or none of both in the text. The valid options are: \"tightened\", \"relaxed\", \"unclear\"\\n'\n",
    "    'Please return the answer as a JSON of the format {{\"measure_type\": <label>, \"evidence\" : <keyphrase> }} without any explanations.\\n'\n",
    "    ' '\n",
    "    'Here is an example:\\n'\n",
    "    'Input: ```… Die Geschäftsführung und Klinikumsleitung haben folgende Anpassungen der Corona-Verfahrensanweisungen für Mitarbeitenden und Patienten für das Klinikum EvB, Campus Potsdam vorgenommen. Damit fallen auch die letzten Testregelungen für die Patient*innen. Die wichtigsten Änderungen, die ab dem 1. Mai gelten, finden Sie hier im Überblick: • Testungen von Patient*innen entfallen ab dem 1.5.2023:- keine Routine-Testungen mehr bei der Aufnahme- keine Testung mehr bei Notfallpatienten - kein Verlaufsscreening mehr • Testungen erfolgen jedoch weiterhin bei Verdacht nach klinischer Maßgabe.``` Output: ```{{\"measure_type\": \"relaxed\", \"evidence\" : \"Damit fallen auch die letzten Testregelungen für die Patient*innen.\" }}```\\n'\n",
    "    'Input: ```{}``` Output: ')"
   ]
  },
  {
   "cell_type": "code",
   "execution_count": null,
   "id": "7de3a7b4-1258-4896-8a78-8c31c3ab50fc",
   "metadata": {},
   "outputs": [],
   "source": [
    "classification_df = pd.DataFrame(columns=[\"message\", \"classification\", \"evidence\"])\n",
    "for message in keyword_df_3_or_more_matches[\"message_anonymized\"][:3]:\n",
    "    completion = get_completion(prompt_few_shot.format(message))\n",
    "    jsoned = json.loads(completion)\n",
    "    classification_df = pd.concat([classification_df, pd.DataFrame([[message, jsoned[\"measure_type\"], jsoned[\"evidence\"]]], columns=[\"message\", \"measure_type\", \"evidence\"])])"
   ]
  },
  {
   "cell_type": "code",
   "execution_count": null,
   "id": "09f16dd1-bd58-4135-8c0e-a8609a246d5b",
   "metadata": {},
   "outputs": [],
   "source": [
    "classification_df"
   ]
  },
  {
   "cell_type": "code",
   "execution_count": null,
   "id": "8b943792-aab3-4080-92ed-0da3df3e8238",
   "metadata": {},
   "outputs": [],
   "source": []
  }
 ],
 "metadata": {
  "kernelspec": {
   "display_name": "Python 3 (ipykernel)",
   "language": "python",
   "name": "python3"
  },
  "language_info": {
   "codemirror_mode": {
    "name": "ipython",
    "version": 3
   },
   "file_extension": ".py",
   "mimetype": "text/x-python",
   "name": "python",
   "nbconvert_exporter": "python",
   "pygments_lexer": "ipython3",
   "version": "3.9.18"
  }
 },
 "nbformat": 4,
 "nbformat_minor": 5
}
