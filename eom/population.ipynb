{
 "cells": [
  {
   "cell_type": "code",
   "execution_count": null,
   "metadata": {},
   "outputs": [],
   "source": [
    "import pandas as pd\n",
    "import matplotlib.pyplot as plt"
   ]
  },
  {
   "cell_type": "code",
   "execution_count": null,
   "metadata": {},
   "outputs": [],
   "source": [
    "consultation_original = pd.read_csv(\"https://raw.githubusercontent.com/robert-koch-institut/ARE-Konsultationsinzidenz/main/ARE-Konsultationsinzidenz.tsv\",\n",
    "sep=\"\\t\", parse_dates=[\"Kalenderwoche\"], index_col=\"Kalenderwoche\")"
   ]
  },
  {
   "cell_type": "code",
   "execution_count": null,
   "metadata": {},
   "outputs": [],
   "source": [
    "consultation_original.head()"
   ]
  },
  {
   "cell_type": "code",
   "execution_count": null,
   "metadata": {},
   "outputs": [],
   "source": [
    "consultation = consultation_original.loc[(consultation_original.Altersgruppe.str.contains(\"15-34|35-59\")) & (consultation_original.Bundesland == \"Bundesweit\")]\n",
    "\n",
    "consultation.head()"
   ]
  },
  {
   "cell_type": "code",
   "execution_count": null,
   "metadata": {},
   "outputs": [],
   "source": [
    "consultationsPerWeek = consultation.groupby(\"Kalenderwoche\").ARE_Konsultationsinzidenz.sum().reset_index()\n",
    "consultationsPerWeek.head()"
   ]
  },
  {
   "cell_type": "code",
   "execution_count": null,
   "metadata": {},
   "outputs": [],
   "source": [
    "plt.plot(consultationsPerWeek.Kalenderwoche, consultationsPerWeek.ARE_Konsultationsinzidenz)"
   ]
  },
  {
   "cell_type": "code",
   "execution_count": null,
   "metadata": {},
   "outputs": [],
   "source": [
    "grippeWeb_original = pd.read_csv(\"https://raw.githubusercontent.com/robert-koch-institut/GrippeWeb_Daten_des_Wochenberichts/main/GrippeWeb_Daten_des_Wochenberichts.tsv\",\n",
    "sep=\"\\t\", parse_dates=[\"Kalenderwoche\"], index_col=\"Kalenderwoche\")\n",
    "grippeWeb_original.head()"
   ]
  },
  {
   "cell_type": "code",
   "execution_count": null,
   "metadata": {},
   "outputs": [],
   "source": [
    "grippeWeb = grippeWeb_original.loc[(grippeWeb_original.Altersgruppe.str.contains(\"15-34|35-59\")) & (grippeWeb_original.Region == \"Bundesweit\")]\n",
    "grippeWeb.head()"
   ]
  },
  {
   "cell_type": "code",
   "execution_count": null,
   "metadata": {},
   "outputs": [],
   "source": [
    "grippewebPerWeek = grippeWeb.loc[grippeWeb.Erkrankung == \"ARE\"].groupby(\"Kalenderwoche\").Inzidenz.sum().reset_index()\n",
    "grippewebPerWeek.head()"
   ]
  },
  {
   "cell_type": "code",
   "execution_count": null,
   "metadata": {},
   "outputs": [],
   "source": [
    "merged = pd.merge(consultationsPerWeek, grippewebPerWeek, on=\"Kalenderwoche\")\n",
    "merged.columns = [\"Kalenderwoche\", \"Konsultationsinzidenz\", \"GrippeWebInzidenz\"]\n",
    "merged.head()"
   ]
  },
  {
   "cell_type": "code",
   "execution_count": null,
   "metadata": {},
   "outputs": [],
   "source": [
    "plt.plot(merged.Kalenderwoche, merged.Konsultationsinzidenz)\n",
    "plt.plot(merged.Kalenderwoche, merged.GrippeWebInzidenz)"
   ]
  },
  {
   "cell_type": "code",
   "execution_count": null,
   "metadata": {},
   "outputs": [],
   "source": [
    "# plot the data using a y-Axis for each of the columns\n",
    "fig, ax1 = plt.subplots()\n",
    "ax1.plot(merged.Kalenderwoche, merged.Konsultationsinzidenz, color=\"blue\", alpha=0.5)\n",
    "ax1.set_ylabel(\"Konsultationsinzidenz\", color=\"blue\")\n",
    "ax2 = ax1.twinx()\n",
    "ax2.plot(merged.Kalenderwoche, merged.GrippeWebInzidenz, color=\"red\", alpha=0.5)\n",
    "ax2.set_ylabel(\"GrippeWebInzidenz\", color=\"red\")\n",
    "\n",
    "# set x-ticks to be the first KW of each year\n",
    "ax1.set_xticks(merged.Kalenderwoche[::52])\n",
    "# tilt the x-labels by 45 degrees\n",
    "ax1.set_xticklabels(merged.Kalenderwoche[::52], rotation=45)\n"
   ]
  },
  {
   "cell_type": "code",
   "execution_count": null,
   "metadata": {},
   "outputs": [],
   "source": [
    "grippewebPerRegion = grippeWeb_original.groupby(\"Region\").count().reset_index()\n",
    "grippewebPerRegion"
   ]
  },
  {
   "cell_type": "code",
   "execution_count": null,
   "metadata": {},
   "outputs": [],
   "source": []
  }
 ],
 "metadata": {
  "kernelspec": {
   "display_name": "hpi-vwd-7V62F5AK",
   "language": "python",
   "name": "python3"
  },
  "language_info": {
   "codemirror_mode": {
    "name": "ipython",
    "version": 3
   },
   "file_extension": ".py",
   "mimetype": "text/x-python",
   "name": "python",
   "nbconvert_exporter": "python",
   "pygments_lexer": "ipython3",
   "version": "3.9.18"
  }
 },
 "nbformat": 4,
 "nbformat_minor": 2
}
