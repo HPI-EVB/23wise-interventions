{
 "cells": [
  {
   "cell_type": "code",
   "execution_count": null,
   "id": "132e8161",
   "metadata": {},
   "outputs": [],
   "source": [
    "# extract the header from the intranet_extract\n",
    "# the header is the first <h1> tag\n",
    "from bs4 import BeautifulSoup\n",
    "import re\n",
    "import pandas as pd\n",
    "from numpy import nan"
   ]
  },
  {
   "cell_type": "code",
   "execution_count": null,
   "id": "f251f000",
   "metadata": {},
   "outputs": [],
   "source": [
    "with open(\"data/archiv.html\", \"r\") as f:\n",
    "    html_dump = f.read()\n",
    "soup = BeautifulSoup(html_dump)\n",
    "\n",
    "intranet_df = pd.DataFrame(columns=[\"date\", \"title\", \"message\"])\n",
    "\n",
    "# find all elemtents with the class csc-default\n",
    "for element in soup.find_all(class_='csc-default'):\n",
    "    try:\n",
    "        # extract the header from the element\n",
    "        title = element.find('h1').text\n",
    "        try:\n",
    "            date, title = title.split(\"_\", 1)\n",
    "        except ValueError:\n",
    "            date = None\n",
    "    \n",
    "        # concatenate all paragraphs\n",
    "        message = \" \".join([p.text for p in element.find_all('p')])\n",
    "        message = re.sub(r'\\s+', ' ', message).strip()\n",
    "\n",
    "        intranet_df.loc[len(intranet_df)] = [date, title, message]\n",
    "\n",
    "    except AttributeError:\n",
    "        continue"
   ]
  },
  {
   "cell_type": "code",
   "execution_count": null,
   "id": "220edead",
   "metadata": {},
   "outputs": [],
   "source": [
    "display(intranet_df.head(25))"
   ]
  },
  {
   "cell_type": "code",
   "execution_count": null,
   "id": "42e7a5c1-28f5-428f-82a7-0235540da3fa",
   "metadata": {},
   "outputs": [],
   "source": [
    "# sometimes the date can be found in the title\n",
    "intranet_df.loc[pd.isna(intranet_df.date), \"date\"] = intranet_df.loc[pd.isna(intranet_df.date), \"title\"].str.extract(\"^\\w?(\\d{2}\\.\\d{2}\\.)\", expand=False)\n",
    "intranet_df.head(10)"
   ]
  },
  {
   "cell_type": "code",
   "execution_count": null,
   "id": "2895f86d-0e70-45c7-a707-d90411cda69e",
   "metadata": {},
   "outputs": [],
   "source": [
    "intranet_df.loc[pd.isna(intranet_df.date)]"
   ]
  },
  {
   "cell_type": "code",
   "execution_count": null,
   "id": "0d980b99-4a40-48bd-a18b-2b0a328c8cf9",
   "metadata": {},
   "outputs": [],
   "source": [
    "# add point after month (is missing in some cases)\n",
    "point_column = pd.DataFrame([\".\" for i in range(len(intranet_df))], columns=[\"a\"])\n",
    "intranet_df[\"date\"] = intranet_df.date.str.extract(\"^\\w?(\\d{2}\\.\\d{2})\", expand=False).str.cat(point_column)\n",
    "intranet_df.head(10)"
   ]
  },
  {
   "cell_type": "code",
   "execution_count": null,
   "id": "a39e1524-5648-4922-86f7-ac44ccaa8c98",
   "metadata": {},
   "outputs": [],
   "source": [
    "temp_df = pd.DataFrame(columns=[\"date\", \"year\"])\n",
    "temp_df[\"date\"] = intranet_df.date\n",
    "\n",
    "year = 2024\n",
    "precursor_month = 13\n",
    "temp_df.loc[0, \"year\"] = 2024\n",
    "for i in range(1, len(intranet_df)-1):\n",
    "    if not pd.isna(intranet_df.loc[i, \"date\"]):\n",
    "        try:\n",
    "            precursor_month = intranet_df.loc[i-1, \"date\"].split(\".\")[1]\n",
    "            precursor_month = int(precursor_month)\n",
    "            precursor_year_available = pd.isna(temp_df.loc[i-1, \"year\"]) == False\n",
    "        except AttributeError:\n",
    "            try:\n",
    "                precursor_month = intranet_df.loc[i-2, \"date\"].split(\".\")[1]\n",
    "                precursor_month = int(precursor_month)\n",
    "                precursor_year_available = pd.isna(temp_df.loc[i-2, \"year\"]) == False\n",
    "            except AttributeError:\n",
    "                precursor_month = None\n",
    "                precursor_year_available = False\n",
    "        try:\n",
    "            successor_month = intranet_df.loc[i+1, \"date\"].split(\".\")[1]\n",
    "            successor_month = int(successor_month)\n",
    "        except AttributeError:\n",
    "            try:\n",
    "                successor_month = intranet_df.loc[i+2, \"date\"].split(\".\")[1]\n",
    "                successor_month = int(successor_month)\n",
    "            except AttributeError:\n",
    "                successor_month = None\n",
    "            \n",
    "        month = intranet_df.loc[i, \"date\"].split(\".\")[1]\n",
    "        month = int(month)\n",
    "\n",
    "        if precursor_month:\n",
    "            if month > precursor_month:\n",
    "                if successor_month:\n",
    "                    if month == successor_month and precursor_year_available:\n",
    "                        year -= 1\n",
    "                else:\n",
    "                     print(\"problem with row\", i, \" month > precursor but no successor available\")\n",
    "                     continue\n",
    "            else:\n",
    "                # sometimes the date is not correct\n",
    "                if successor_month:\n",
    "                    if successor_month == precursor_month and month != precursor_month:\n",
    "                        continue\n",
    "            \n",
    "        temp_df.loc[i, \"year\"] = year\n",
    "\n",
    "# the last entry is from 2020 but has no successor\n",
    "temp_df.loc[len(intranet_df) - 1, \"year\"] = 2020"
   ]
  },
  {
   "cell_type": "code",
   "execution_count": null,
   "id": "19e44e76-17b7-43af-ab59-4425402e9b5a",
   "metadata": {},
   "outputs": [],
   "source": [
    "temp_df[\"concat_date\"] = temp_df.date.str.cat(temp_df.year.astype(str))\n",
    "temp_df.loc[pd.isna(temp_df.year), \"concat_date\"] = nan\n",
    "temp_df.loc[~pd.isna(temp_df.year), \"timestamp\"] = pd.to_datetime(temp_df.loc[~pd.isna(temp_df.year), \"concat_date\"], format=\"%d.%m.%Y\")\n",
    "temp_df.head()"
   ]
  },
  {
   "cell_type": "code",
   "execution_count": null,
   "id": "fb21a294-ab48-4087-b65b-2ecd4f9726b7",
   "metadata": {},
   "outputs": [],
   "source": [
    "temp_df.concat_date.isna().sum()"
   ]
  },
  {
   "cell_type": "code",
   "execution_count": null,
   "id": "422ddc01-c7d8-4036-81b7-932a8406f224",
   "metadata": {},
   "outputs": [],
   "source": [
    "# iterate through the records with missing timestamp and impute it by taking the mean of the successor and the precursor\n",
    "for i, row in temp_df.loc[pd.isna(temp_df.year)].iterrows():\n",
    "    try:\n",
    "        temp_df.loc[i, \"timestamp\"] = temp_df.loc[[i-1, i+1], \"timestamp\"].mean()\n",
    "    except KeyError:\n",
    "        pass"
   ]
  },
  {
   "cell_type": "code",
   "execution_count": null,
   "id": "82ae548b-8df7-4d2c-b71c-5645c8d8bc43",
   "metadata": {},
   "outputs": [],
   "source": [
    "temp_df[14:24]"
   ]
  },
  {
   "cell_type": "code",
   "execution_count": null,
   "id": "ba0677cd-5853-4aa3-8b1d-b442ad20de93",
   "metadata": {},
   "outputs": [],
   "source": [
    "temp_df.tail(10)"
   ]
  },
  {
   "cell_type": "code",
   "execution_count": null,
   "id": "c700842e-26a1-45b1-aaba-766b1f518607",
   "metadata": {},
   "outputs": [],
   "source": [
    "len(temp_df) == len(intranet_df)"
   ]
  },
  {
   "cell_type": "code",
   "execution_count": null,
   "id": "b6a682c2-fee1-4a15-984c-9d5c6625f3b7",
   "metadata": {},
   "outputs": [],
   "source": [
    "intranet_df[\"timestamp\"] = temp_df[\"timestamp\"].dt.date\n",
    "intranet_df[\"timestamp_imputed\"] = pd.isna(temp_df[\"concat_date\"])\n",
    "intranet_df.drop(columns=\"date\", inplace=True)"
   ]
  },
  {
   "cell_type": "code",
   "execution_count": null,
   "id": "8d64c035-7352-4f22-a933-9f6520d8cc57",
   "metadata": {},
   "outputs": [],
   "source": [
    "intranet_df.tail(20)"
   ]
  },
  {
   "cell_type": "code",
   "execution_count": null,
   "id": "fc49e517-2dad-432d-9583-ef4ab92b9619",
   "metadata": {},
   "outputs": [],
   "source": [
    "intranet_df.to_csv(\"data/intranet_data.tsv\", index=False, encoding=\"utf-8\", sep=\"\\t\")"
   ]
  }
 ],
 "metadata": {
  "kernelspec": {
   "display_name": "Python 3 (ipykernel)",
   "language": "python",
   "name": "python3"
  },
  "language_info": {
   "codemirror_mode": {
    "name": "ipython",
    "version": 3
   },
   "file_extension": ".py",
   "mimetype": "text/x-python",
   "name": "python",
   "nbconvert_exporter": "python",
   "pygments_lexer": "ipython3",
   "version": "3.9.18"
  }
 },
 "nbformat": 4,
 "nbformat_minor": 5
}
